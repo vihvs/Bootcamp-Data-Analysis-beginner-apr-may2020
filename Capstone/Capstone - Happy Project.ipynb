{
 "cells": [
  {
   "cell_type": "markdown",
   "metadata": {},
   "source": [
    "#  World Happiness Report 😄"
   ]
  },
  {
   "cell_type": "markdown",
   "metadata": {},
   "source": [
    "\n",
    "In this report six measurements are taken per country:\n",
    "\n",
    "- GDP per Capita\n",
    "- Family\n",
    "- Life Expectancy\n",
    "- Freedom\n",
    "- Generosity\n",
    "- Trust Government Corruption"
   ]
  },
  {
   "cell_type": "markdown",
   "metadata": {},
   "source": [
    "The report contains data for 2015-2019. This dataset consists of the following datafiles in this Git repository,\n",
    "\n",
    "* 2015.csv\n",
    "* 2016.csv\n",
    "* 2017.csv\n",
    "* 2018.csv\n",
    "* 2019.csv\n",
    "\n",
    "Let's play with 🐍"
   ]
  },
  {
   "cell_type": "markdown",
   "metadata": {},
   "source": [
    "## 0. Load the data"
   ]
  },
  {
   "cell_type": "code",
   "execution_count": 1,
   "metadata": {},
   "outputs": [],
   "source": [
    "# Import all the packages that we are going to use\n",
    "import pandas as pd\n",
    "import numpy as np\n",
    "import seaborn as sns\n",
    "import matplotlib.pyplot as plt\n",
    "\n",
    "# Read the datasets into separate variables\n",
    "d2015 = pd.read_csv(\"2015.csv\")\n",
    "d2016 = pd.read_csv(\"2016.csv\")\n",
    "d2017 = pd.read_csv(\"2017.csv\")\n",
    "d2018 = pd.read_csv(\"2018.csv\")\n",
    "d2019 = pd.read_csv(\"2019.csv\")"
   ]
  },
  {
   "cell_type": "markdown",
   "metadata": {},
   "source": [
    "## 1. Clean the dataset"
   ]
  },
  {
   "cell_type": "markdown",
   "metadata": {},
   "source": [
    "### 1.1. Add the column with a year"
   ]
  },
  {
   "cell_type": "markdown",
   "metadata": {},
   "source": [
    "The datasets do not have year indication. To make it easier for the further data analysis, we add a column with corresponding year to each dataframe."
   ]
  },
  {
   "cell_type": "code",
   "execution_count": 4,
   "metadata": {},
   "outputs": [],
   "source": [
    "d2015 = d2015.assign(Year=2015)\n",
    "d2016 = d2016.assign(Year=2016)\n",
    "d2017 = d2017.assign(Year=2017)\n",
    "d2018 = d2018.assign(Year=2018)\n",
    "d2019 = d2019.assign(Year=2019)"
   ]
  },
  {
   "cell_type": "markdown",
   "metadata": {},
   "source": [
    "### 1.2. Explore the data"
   ]
  },
  {
   "cell_type": "code",
   "execution_count": 8,
   "metadata": {},
   "outputs": [
    {
     "name": "stdout",
     "output_type": "stream",
     "text": [
      "<class 'pandas.core.frame.DataFrame'>\n",
      "RangeIndex: 158 entries, 0 to 157\n",
      "Data columns (total 13 columns):\n",
      " #   Column                         Non-Null Count  Dtype  \n",
      "---  ------                         --------------  -----  \n",
      " 0   Country                        158 non-null    object \n",
      " 1   Region                         158 non-null    object \n",
      " 2   Happiness Rank                 158 non-null    int64  \n",
      " 3   Happiness Score                158 non-null    float64\n",
      " 4   Standard Error                 158 non-null    float64\n",
      " 5   Economy (GDP per Capita)       158 non-null    float64\n",
      " 6   Family                         158 non-null    float64\n",
      " 7   Health (Life Expectancy)       158 non-null    float64\n",
      " 8   Freedom                        158 non-null    float64\n",
      " 9   Trust (Government Corruption)  158 non-null    float64\n",
      " 10  Generosity                     158 non-null    float64\n",
      " 11  Dystopia Residual              158 non-null    float64\n",
      " 12  Year                           158 non-null    int64  \n",
      "dtypes: float64(9), int64(2), object(2)\n",
      "memory usage: 16.2+ KB\n"
     ]
    }
   ],
   "source": [
    "d2015.info()"
   ]
  },
  {
   "cell_type": "code",
   "execution_count": 9,
   "metadata": {},
   "outputs": [
    {
     "name": "stdout",
     "output_type": "stream",
     "text": [
      "<class 'pandas.core.frame.DataFrame'>\n",
      "RangeIndex: 157 entries, 0 to 156\n",
      "Data columns (total 14 columns):\n",
      " #   Column                         Non-Null Count  Dtype  \n",
      "---  ------                         --------------  -----  \n",
      " 0   Country                        157 non-null    object \n",
      " 1   Region                         157 non-null    object \n",
      " 2   Happiness Rank                 157 non-null    int64  \n",
      " 3   Happiness Score                157 non-null    float64\n",
      " 4   Lower Confidence Interval      157 non-null    float64\n",
      " 5   Upper Confidence Interval      157 non-null    float64\n",
      " 6   Economy (GDP per Capita)       157 non-null    float64\n",
      " 7   Family                         157 non-null    float64\n",
      " 8   Health (Life Expectancy)       157 non-null    float64\n",
      " 9   Freedom                        157 non-null    float64\n",
      " 10  Trust (Government Corruption)  157 non-null    float64\n",
      " 11  Generosity                     157 non-null    float64\n",
      " 12  Dystopia Residual              157 non-null    float64\n",
      " 13  Year                           157 non-null    int64  \n",
      "dtypes: float64(10), int64(2), object(2)\n",
      "memory usage: 17.3+ KB\n"
     ]
    }
   ],
   "source": [
    "d2016.info()"
   ]
  },
  {
   "cell_type": "code",
   "execution_count": 10,
   "metadata": {},
   "outputs": [
    {
     "name": "stdout",
     "output_type": "stream",
     "text": [
      "<class 'pandas.core.frame.DataFrame'>\n",
      "RangeIndex: 155 entries, 0 to 154\n",
      "Data columns (total 13 columns):\n",
      " #   Column                         Non-Null Count  Dtype  \n",
      "---  ------                         --------------  -----  \n",
      " 0   Country                        155 non-null    object \n",
      " 1   Happiness.Rank                 155 non-null    int64  \n",
      " 2   Happiness.Score                155 non-null    float64\n",
      " 3   Whisker.high                   155 non-null    float64\n",
      " 4   Whisker.low                    155 non-null    float64\n",
      " 5   Economy..GDP.per.Capita.       155 non-null    float64\n",
      " 6   Family                         155 non-null    float64\n",
      " 7   Health..Life.Expectancy.       155 non-null    float64\n",
      " 8   Freedom                        155 non-null    float64\n",
      " 9   Generosity                     155 non-null    float64\n",
      " 10  Trust..Government.Corruption.  155 non-null    float64\n",
      " 11  Dystopia.Residual              155 non-null    float64\n",
      " 12  Year                           155 non-null    int64  \n",
      "dtypes: float64(10), int64(2), object(1)\n",
      "memory usage: 15.9+ KB\n"
     ]
    }
   ],
   "source": [
    "d2017.info()"
   ]
  },
  {
   "cell_type": "code",
   "execution_count": 11,
   "metadata": {},
   "outputs": [
    {
     "name": "stdout",
     "output_type": "stream",
     "text": [
      "<class 'pandas.core.frame.DataFrame'>\n",
      "RangeIndex: 156 entries, 0 to 155\n",
      "Data columns (total 10 columns):\n",
      " #   Column                        Non-Null Count  Dtype  \n",
      "---  ------                        --------------  -----  \n",
      " 0   Overall rank                  156 non-null    int64  \n",
      " 1   Country or region             156 non-null    object \n",
      " 2   Score                         156 non-null    float64\n",
      " 3   GDP per capita                156 non-null    float64\n",
      " 4   Social support                156 non-null    float64\n",
      " 5   Healthy life expectancy       156 non-null    float64\n",
      " 6   Freedom to make life choices  156 non-null    float64\n",
      " 7   Generosity                    156 non-null    float64\n",
      " 8   Perceptions of corruption     155 non-null    float64\n",
      " 9   Year                          156 non-null    int64  \n",
      "dtypes: float64(7), int64(2), object(1)\n",
      "memory usage: 12.3+ KB\n"
     ]
    }
   ],
   "source": [
    "d2018.info()"
   ]
  },
  {
   "cell_type": "code",
   "execution_count": 12,
   "metadata": {},
   "outputs": [
    {
     "name": "stdout",
     "output_type": "stream",
     "text": [
      "<class 'pandas.core.frame.DataFrame'>\n",
      "RangeIndex: 156 entries, 0 to 155\n",
      "Data columns (total 10 columns):\n",
      " #   Column                        Non-Null Count  Dtype  \n",
      "---  ------                        --------------  -----  \n",
      " 0   Overall rank                  156 non-null    int64  \n",
      " 1   Country or region             156 non-null    object \n",
      " 2   Score                         156 non-null    float64\n",
      " 3   GDP per capita                156 non-null    float64\n",
      " 4   Social support                156 non-null    float64\n",
      " 5   Healthy life expectancy       156 non-null    float64\n",
      " 6   Freedom to make life choices  156 non-null    float64\n",
      " 7   Generosity                    156 non-null    float64\n",
      " 8   Perceptions of corruption     156 non-null    float64\n",
      " 9   Year                          156 non-null    int64  \n",
      "dtypes: float64(7), int64(2), object(1)\n",
      "memory usage: 12.3+ KB\n"
     ]
    }
   ],
   "source": [
    "d2019.info()"
   ]
  },
  {
   "cell_type": "markdown",
   "metadata": {},
   "source": [
    "After exploring the data, we realized that the column names are different in dataasets. Thus, we need to rename the columns for further merge of the datasets. \n",
    "Also, the number of entries are not the same in all datasets, so the countries analysed each year are not the same. "
   ]
  },
  {
   "cell_type": "markdown",
   "metadata": {},
   "source": [
    "### 1.3. Rename certain columns"
   ]
  },
  {
   "cell_type": "code",
   "execution_count": 13,
   "metadata": {},
   "outputs": [],
   "source": [
    "d2017 = d2017.rename(columns = {'Happiness.Rank': 'Happiness Rank', 'Happiness.Score': 'Happiness Score',\n",
    "                                'Whisker.high': 'Whisker high', 'Economy..GDP.per.Capita.': 'Economy (GDP per Capita)',\n",
    "                                'Health..Life.Expectancy.': 'Health (Life Expectancy)',\n",
    "                                'Trust..Government.Corruption.': 'Trust (Government Corruption)', 'Dystopia.Residual': 'Dystopia Residual'})"
   ]
  },
  {
   "cell_type": "code",
   "execution_count": 14,
   "metadata": {},
   "outputs": [],
   "source": [
    "d2018 = d2018.rename(columns = {'GDP per capita': 'Economy (GDP per Capita)', 'Healthy life expectancy': 'Health (Life Expectancy)',\n",
    "                                'Freedom to make life choices': 'Freedom', 'Perceptions of corruption': 'Trust (Government Corruption)',\n",
    "                                'Overall rank': 'Happiness Rank', 'Score': 'Happiness Score',\n",
    "                                'Country or region': 'Country', 'Social support': 'Family'})"
   ]
  },
  {
   "cell_type": "code",
   "execution_count": 15,
   "metadata": {},
   "outputs": [],
   "source": [
    "d2019 = d2019.rename(columns = {'GDP per capita': 'Economy (GDP per Capita)','Healthy life expectancy': 'Health (Life Expectancy)',\n",
    "                                'Freedom to make life choices': 'Freedom', 'Perceptions of corruption': 'Trust (Government Corruption)',\n",
    "                                'Overall rank': 'Happiness Rank', 'Score': 'Happiness Score', 'Country or region': 'Country',\n",
    "                                'Social support': 'Family'})"
   ]
  },
  {
   "cell_type": "markdown",
   "metadata": {},
   "source": [
    "#### 1.4.1 Check if Country names differ across datasets"
   ]
  },
  {
   "cell_type": "code",
   "execution_count": 16,
   "metadata": {},
   "outputs": [],
   "source": [
    "#Check all countries that are not included in all datasets\n",
    "dyear=[d2015,d2016,d2017,d2018,d2019]\n",
    "\n",
    "Countrydiff=\"\" # Set a string, which will contain countries with different names\n",
    "for x in dyear: # Loop over each file\n",
    "    for y in dyear: \n",
    "        Countrydiff+='\\n'+x[~x.Country.isin(y.Country)].Country.to_string(index=False) # Append the string with countries that have different names.\n",
    "Countrydiff=Countrydiff.replace('Series([], )','').strip().split(\"\\n\")\n"
   ]
  },
  {
   "cell_type": "code",
   "execution_count": 17,
   "metadata": {},
   "outputs": [
    {
     "data": {
      "text/plain": [
       "['Oman',\n",
       " '        Somaliland region',\n",
       " '               Mozambique',\n",
       " '                  Lesotho',\n",
       " '                Swaziland',\n",
       " '                 Djibouti',\n",
       " ' Central African Republic',\n",
       " '              Oman',\n",
       " '            Taiwan',\n",
       " '          Suriname',\n",
       " '         Hong Kong',\n",
       " ' Somaliland region',\n",
       " '              Laos',\n",
       " '         Swaziland',\n",
       " '          Djibouti',\n",
       " '           Comoros',\n",
       " '                Oman',\n",
       " '            Suriname',\n",
       " ' Trinidad and Tobago',\n",
       " '        North Cyprus',\n",
       " '   Somaliland region',\n",
       " '           Swaziland',\n",
       " '            Djibouti',\n",
       " '             Comoros',\n",
       " '                Oman',\n",
       " '            Suriname',\n",
       " ' Trinidad and Tobago',\n",
       " '        North Cyprus',\n",
       " '   Somaliland region',\n",
       " '           Macedonia',\n",
       " '               Sudan',\n",
       " '            Djibouti',\n",
       " '              Angola',\n",
       " '       Puerto Rico',\n",
       " '            Belize',\n",
       " '           Somalia',\n",
       " ' Somaliland Region',\n",
       " '           Namibia',\n",
       " '       South Sudan',\n",
       " '',\n",
       " '       Puerto Rico',\n",
       " '            Taiwan',\n",
       " '          Suriname',\n",
       " '         Hong Kong',\n",
       " ' Somaliland Region',\n",
       " '              Laos',\n",
       " '           Comoros',\n",
       " '         Puerto Rico',\n",
       " '            Suriname',\n",
       " ' Trinidad and Tobago',\n",
       " '        North Cyprus',\n",
       " '   Somaliland Region',\n",
       " '             Comoros',\n",
       " '         Puerto Rico',\n",
       " '            Suriname',\n",
       " ' Trinidad and Tobago',\n",
       " '              Belize',\n",
       " '        North Cyprus',\n",
       " '           Macedonia',\n",
       " '   Somaliland Region',\n",
       " '               Sudan',\n",
       " '              Angola',\n",
       " ' Taiwan Province of China',\n",
       " '                   Belize',\n",
       " '  Hong Kong S.A.R., China',\n",
       " '                  Somalia',\n",
       " '                  Namibia',\n",
       " '              South Sudan',\n",
       " ' Taiwan Province of China',\n",
       " '  Hong Kong S.A.R., China',\n",
       " '               Mozambique',\n",
       " '                  Lesotho',\n",
       " ' Central African Republic',\n",
       " '',\n",
       " ' Taiwan Province of China',\n",
       " '      Trinidad and Tobago',\n",
       " '             North Cyprus',\n",
       " '  Hong Kong S.A.R., China',\n",
       " ' Taiwan Province of China',\n",
       " '      Trinidad and Tobago',\n",
       " '                   Belize',\n",
       " '             North Cyprus',\n",
       " '  Hong Kong S.A.R., China',\n",
       " '                Macedonia',\n",
       " '                    Sudan',\n",
       " '                   Angola',\n",
       " ' Trinidad & Tobago',\n",
       " '            Belize',\n",
       " '   Northern Cyprus',\n",
       " '           Somalia',\n",
       " '           Namibia',\n",
       " '       South Sudan',\n",
       " '        Trinidad & Tobago',\n",
       " '          Northern Cyprus',\n",
       " '               Mozambique',\n",
       " '                  Lesotho',\n",
       " ' Central African Republic',\n",
       " '            Taiwan',\n",
       " ' Trinidad & Tobago',\n",
       " '   Northern Cyprus',\n",
       " '         Hong Kong',\n",
       " '              Laos',\n",
       " '',\n",
       " '    Belize',\n",
       " ' Macedonia',\n",
       " '     Sudan',\n",
       " '    Angola',\n",
       " ' Trinidad & Tobago',\n",
       " '   Northern Cyprus',\n",
       " '   North Macedonia',\n",
       " '           Somalia',\n",
       " '           Namibia',\n",
       " '            Gambia',\n",
       " '       South Sudan',\n",
       " '        Trinidad & Tobago',\n",
       " '          Northern Cyprus',\n",
       " '          North Macedonia',\n",
       " '                   Gambia',\n",
       " '               Mozambique',\n",
       " '                Swaziland',\n",
       " '                  Lesotho',\n",
       " ' Central African Republic',\n",
       " '            Taiwan',\n",
       " ' Trinidad & Tobago',\n",
       " '   Northern Cyprus',\n",
       " '         Hong Kong',\n",
       " '   North Macedonia',\n",
       " '              Laos',\n",
       " '            Gambia',\n",
       " '         Swaziland',\n",
       " '           Comoros',\n",
       " ' North Macedonia',\n",
       " '          Gambia',\n",
       " '       Swaziland',\n",
       " '         Comoros']"
      ]
     },
     "execution_count": 17,
     "metadata": {},
     "output_type": "execute_result"
    }
   ],
   "source": [
    "Countrydiff # Check how the country names look like"
   ]
  },
  {
   "cell_type": "code",
   "execution_count": 18,
   "metadata": {},
   "outputs": [],
   "source": [
    "Countryvar=[] # Prepare a list that will contain 'cleaned' country names\n",
    "for i in Countrydiff: # Loop over the list with countries with different names\n",
    "    j = i.strip() # Clean the country name from unnecessary spaces\n",
    "    Countryvar.append(j) # Append the list"
   ]
  },
  {
   "cell_type": "code",
   "execution_count": 23,
   "metadata": {},
   "outputs": [
    {
     "data": {
      "text/plain": [
       "{'',\n",
       " 'Angola',\n",
       " 'Belize',\n",
       " 'Central African Republic',\n",
       " 'Comoros',\n",
       " 'Djibouti',\n",
       " 'Gambia',\n",
       " 'Hong Kong',\n",
       " 'Hong Kong S.A.R., China',\n",
       " 'Laos',\n",
       " 'Lesotho',\n",
       " 'Macedonia',\n",
       " 'Mozambique',\n",
       " 'Namibia',\n",
       " 'North Cyprus',\n",
       " 'North Macedonia',\n",
       " 'Northern Cyprus',\n",
       " 'Oman',\n",
       " 'Puerto Rico',\n",
       " 'Somalia',\n",
       " 'Somaliland Region',\n",
       " 'Somaliland region',\n",
       " 'South Sudan',\n",
       " 'Sudan',\n",
       " 'Suriname',\n",
       " 'Swaziland',\n",
       " 'Taiwan',\n",
       " 'Taiwan Province of China',\n",
       " 'Trinidad & Tobago',\n",
       " 'Trinidad and Tobago'}"
      ]
     },
     "execution_count": 23,
     "metadata": {},
     "output_type": "execute_result"
    }
   ],
   "source": [
    "set(Countryvar) \n",
    "#here we can see the countries that are named differently accros the datasets when we concate we \n",
    "#need to rename \n",
    "#'Hong Kong S.A.R., China'to 'Hong Kong'; \n",
    "#'Northern Cyprus' to 'North Cyprus';\n",
    "#'Somaliland region' to Somaliland Region';\n",
    "#'Taiwan Province of China' to 'Taiwan'; '\n",
    "#Trinidad & Tobago' to 'Trinidad and Tobago'"
   ]
  },
  {
   "cell_type": "markdown",
   "metadata": {},
   "source": [
    "#### 1.4.2. Rename country names that differ"
   ]
  },
  {
   "cell_type": "code",
   "execution_count": 24,
   "metadata": {},
   "outputs": [],
   "source": [
    "for x in dyear: # Loop over the list of dataframes\n",
    "    x['Country']=x['Country'].replace({'Hong Kong S.A.R., China': 'Hong Kong',\n",
    "                          'Northern Cyprus': 'North Cyprus',\n",
    "                          'Somaliland region': 'Somaliland Region',\n",
    "                          'Taiwan Province of China': 'Taiwan',\n",
    "                          'Trinidad & Tobago':'Trinidad and Tobago'})"
   ]
  },
  {
   "cell_type": "markdown",
   "metadata": {},
   "source": [
    "### 1.5. Add region to d2017, d2018 and d2019 datasets"
   ]
  },
  {
   "cell_type": "markdown",
   "metadata": {},
   "source": [
    "To answer one of our questions, we need to have regions in all files., not just in 2015 and 2016. For that, we need to update dataframes that contain data from 2017, 2018, and 2019. "
   ]
  },
  {
   "cell_type": "markdown",
   "metadata": {},
   "source": [
    "#### 1.5.1 Create a dataset with the countries and regions provided in d2015 and d2016"
   ]
  },
  {
   "cell_type": "code",
   "execution_count": 27,
   "metadata": {},
   "outputs": [
    {
     "name": "stdout",
     "output_type": "stream",
     "text": [
      "       Country          Region\n",
      "0  Switzerland  Western Europe\n",
      "1      Iceland  Western Europe\n",
      "2      Denmark  Western Europe\n",
      "3       Norway  Western Europe\n",
      "4       Canada   North America\n"
     ]
    }
   ],
   "source": [
    "dfcr15=d2015[['Country','Region']]\n",
    "dfcr16=d2016[['Country','Region']]\n",
    "dfcr=pd.concat([dfcr15, dfcr16],ignore_index=True)\n",
    "dfcr=dfcr.drop_duplicates()\n",
    "print(dfcr.head())"
   ]
  },
  {
   "cell_type": "code",
   "execution_count": 29,
   "metadata": {},
   "outputs": [
    {
     "name": "stdout",
     "output_type": "stream",
     "text": [
      "<class 'pandas.core.frame.DataFrame'>\n",
      "Int64Index: 163 entries, 0 to 300\n",
      "Data columns (total 2 columns):\n",
      " #   Column   Non-Null Count  Dtype \n",
      "---  ------   --------------  ----- \n",
      " 0   Country  163 non-null    object\n",
      " 1   Region   163 non-null    object\n",
      "dtypes: object(2)\n",
      "memory usage: 3.8+ KB\n"
     ]
    }
   ],
   "source": [
    "dfcr.info()"
   ]
  },
  {
   "cell_type": "markdown",
   "metadata": {},
   "source": [
    "#### 1.5.2 Add the region on two countries without Region"
   ]
  },
  {
   "cell_type": "code",
   "execution_count": 31,
   "metadata": {},
   "outputs": [],
   "source": [
    "# We add Gambia row as its region is not defined in dfcr.columns\n",
    "dfcr.loc[301] = ['Gambia','Sub-Saharan Africa']\n",
    "dfcr.loc[302] = ['North Macedonia','Central and Eastern Europe']"
   ]
  },
  {
   "cell_type": "markdown",
   "metadata": {},
   "source": [
    "#### 1.5.3. Add the region column to d2017,d2018,d2019"
   ]
  },
  {
   "cell_type": "code",
   "execution_count": 33,
   "metadata": {},
   "outputs": [],
   "source": [
    "d2017n = pd.merge(d2017, dfcr, how='left')\n",
    "d2018n = pd.merge(d2018, dfcr, how='left')\n",
    "d2019n = pd.merge(d2019, dfcr, how='left')"
   ]
  },
  {
   "cell_type": "code",
   "execution_count": 36,
   "metadata": {},
   "outputs": [
    {
     "data": {
      "text/html": [
       "<div>\n",
       "<style scoped>\n",
       "    .dataframe tbody tr th:only-of-type {\n",
       "        vertical-align: middle;\n",
       "    }\n",
       "\n",
       "    .dataframe tbody tr th {\n",
       "        vertical-align: top;\n",
       "    }\n",
       "\n",
       "    .dataframe thead th {\n",
       "        text-align: right;\n",
       "    }\n",
       "</style>\n",
       "<table border=\"1\" class=\"dataframe\">\n",
       "  <thead>\n",
       "    <tr style=\"text-align: right;\">\n",
       "      <th></th>\n",
       "      <th>Happiness Rank</th>\n",
       "      <th>Country</th>\n",
       "      <th>Happiness Score</th>\n",
       "      <th>Economy (GDP per Capita)</th>\n",
       "      <th>Family</th>\n",
       "      <th>Health (Life Expectancy)</th>\n",
       "      <th>Freedom</th>\n",
       "      <th>Generosity</th>\n",
       "      <th>Trust (Government Corruption)</th>\n",
       "      <th>Year</th>\n",
       "      <th>Region</th>\n",
       "    </tr>\n",
       "  </thead>\n",
       "  <tbody>\n",
       "  </tbody>\n",
       "</table>\n",
       "</div>"
      ],
      "text/plain": [
       "Empty DataFrame\n",
       "Columns: [Happiness Rank, Country, Happiness Score, Economy (GDP per Capita), Family, Health (Life Expectancy), Freedom, Generosity, Trust (Government Corruption), Year, Region]\n",
       "Index: []"
      ]
     },
     "execution_count": 36,
     "metadata": {},
     "output_type": "execute_result"
    }
   ],
   "source": [
    "d2019n[d2019n['Region'].isnull()] #we check if there is any country without region\n",
    "#d2016[d2016['Country'].str.contains(\"North Macedonia\")]"
   ]
  },
  {
   "cell_type": "markdown",
   "metadata": {},
   "source": [
    "### 1.6. Merge the datasets"
   ]
  },
  {
   "cell_type": "code",
   "execution_count": 37,
   "metadata": {},
   "outputs": [],
   "source": [
    "datall = pd.concat([d2015,d2016,d2017n,d2018n,d2019n], ignore_index=True)"
   ]
  },
  {
   "cell_type": "code",
   "execution_count": 38,
   "metadata": {},
   "outputs": [
    {
     "name": "stdout",
     "output_type": "stream",
     "text": [
      "<class 'pandas.core.frame.DataFrame'>\n",
      "RangeIndex: 782 entries, 0 to 781\n",
      "Data columns (total 17 columns):\n",
      " #   Column                         Non-Null Count  Dtype  \n",
      "---  ------                         --------------  -----  \n",
      " 0   Country                        782 non-null    object \n",
      " 1   Region                         782 non-null    object \n",
      " 2   Happiness Rank                 782 non-null    int64  \n",
      " 3   Happiness Score                782 non-null    float64\n",
      " 4   Standard Error                 158 non-null    float64\n",
      " 5   Economy (GDP per Capita)       782 non-null    float64\n",
      " 6   Family                         782 non-null    float64\n",
      " 7   Health (Life Expectancy)       782 non-null    float64\n",
      " 8   Freedom                        782 non-null    float64\n",
      " 9   Trust (Government Corruption)  781 non-null    float64\n",
      " 10  Generosity                     782 non-null    float64\n",
      " 11  Dystopia Residual              470 non-null    float64\n",
      " 12  Year                           782 non-null    int64  \n",
      " 13  Lower Confidence Interval      157 non-null    float64\n",
      " 14  Upper Confidence Interval      157 non-null    float64\n",
      " 15  Whisker high                   155 non-null    float64\n",
      " 16  Whisker.low                    155 non-null    float64\n",
      "dtypes: float64(13), int64(2), object(2)\n",
      "memory usage: 104.0+ KB\n"
     ]
    }
   ],
   "source": [
    "datall.info()"
   ]
  },
  {
   "cell_type": "code",
   "execution_count": 39,
   "metadata": {},
   "outputs": [
    {
     "data": {
      "text/html": [
       "<div>\n",
       "<style scoped>\n",
       "    .dataframe tbody tr th:only-of-type {\n",
       "        vertical-align: middle;\n",
       "    }\n",
       "\n",
       "    .dataframe tbody tr th {\n",
       "        vertical-align: top;\n",
       "    }\n",
       "\n",
       "    .dataframe thead th {\n",
       "        text-align: right;\n",
       "    }\n",
       "</style>\n",
       "<table border=\"1\" class=\"dataframe\">\n",
       "  <thead>\n",
       "    <tr style=\"text-align: right;\">\n",
       "      <th></th>\n",
       "      <th>Country</th>\n",
       "      <th>Region</th>\n",
       "      <th>Happiness Rank</th>\n",
       "      <th>Happiness Score</th>\n",
       "      <th>Standard Error</th>\n",
       "      <th>Economy (GDP per Capita)</th>\n",
       "      <th>Family</th>\n",
       "      <th>Health (Life Expectancy)</th>\n",
       "      <th>Freedom</th>\n",
       "      <th>Trust (Government Corruption)</th>\n",
       "      <th>Generosity</th>\n",
       "      <th>Dystopia Residual</th>\n",
       "      <th>Year</th>\n",
       "      <th>Lower Confidence Interval</th>\n",
       "      <th>Upper Confidence Interval</th>\n",
       "      <th>Whisker high</th>\n",
       "      <th>Whisker.low</th>\n",
       "    </tr>\n",
       "  </thead>\n",
       "  <tbody>\n",
       "    <tr>\n",
       "      <th>0</th>\n",
       "      <td>Switzerland</td>\n",
       "      <td>Western Europe</td>\n",
       "      <td>1</td>\n",
       "      <td>7.587</td>\n",
       "      <td>0.03411</td>\n",
       "      <td>1.39651</td>\n",
       "      <td>1.34951</td>\n",
       "      <td>0.94143</td>\n",
       "      <td>0.66557</td>\n",
       "      <td>0.41978</td>\n",
       "      <td>0.29678</td>\n",
       "      <td>2.51738</td>\n",
       "      <td>2015</td>\n",
       "      <td>NaN</td>\n",
       "      <td>NaN</td>\n",
       "      <td>NaN</td>\n",
       "      <td>NaN</td>\n",
       "    </tr>\n",
       "    <tr>\n",
       "      <th>1</th>\n",
       "      <td>Iceland</td>\n",
       "      <td>Western Europe</td>\n",
       "      <td>2</td>\n",
       "      <td>7.561</td>\n",
       "      <td>0.04884</td>\n",
       "      <td>1.30232</td>\n",
       "      <td>1.40223</td>\n",
       "      <td>0.94784</td>\n",
       "      <td>0.62877</td>\n",
       "      <td>0.14145</td>\n",
       "      <td>0.43630</td>\n",
       "      <td>2.70201</td>\n",
       "      <td>2015</td>\n",
       "      <td>NaN</td>\n",
       "      <td>NaN</td>\n",
       "      <td>NaN</td>\n",
       "      <td>NaN</td>\n",
       "    </tr>\n",
       "    <tr>\n",
       "      <th>2</th>\n",
       "      <td>Denmark</td>\n",
       "      <td>Western Europe</td>\n",
       "      <td>3</td>\n",
       "      <td>7.527</td>\n",
       "      <td>0.03328</td>\n",
       "      <td>1.32548</td>\n",
       "      <td>1.36058</td>\n",
       "      <td>0.87464</td>\n",
       "      <td>0.64938</td>\n",
       "      <td>0.48357</td>\n",
       "      <td>0.34139</td>\n",
       "      <td>2.49204</td>\n",
       "      <td>2015</td>\n",
       "      <td>NaN</td>\n",
       "      <td>NaN</td>\n",
       "      <td>NaN</td>\n",
       "      <td>NaN</td>\n",
       "    </tr>\n",
       "    <tr>\n",
       "      <th>3</th>\n",
       "      <td>Norway</td>\n",
       "      <td>Western Europe</td>\n",
       "      <td>4</td>\n",
       "      <td>7.522</td>\n",
       "      <td>0.03880</td>\n",
       "      <td>1.45900</td>\n",
       "      <td>1.33095</td>\n",
       "      <td>0.88521</td>\n",
       "      <td>0.66973</td>\n",
       "      <td>0.36503</td>\n",
       "      <td>0.34699</td>\n",
       "      <td>2.46531</td>\n",
       "      <td>2015</td>\n",
       "      <td>NaN</td>\n",
       "      <td>NaN</td>\n",
       "      <td>NaN</td>\n",
       "      <td>NaN</td>\n",
       "    </tr>\n",
       "    <tr>\n",
       "      <th>4</th>\n",
       "      <td>Canada</td>\n",
       "      <td>North America</td>\n",
       "      <td>5</td>\n",
       "      <td>7.427</td>\n",
       "      <td>0.03553</td>\n",
       "      <td>1.32629</td>\n",
       "      <td>1.32261</td>\n",
       "      <td>0.90563</td>\n",
       "      <td>0.63297</td>\n",
       "      <td>0.32957</td>\n",
       "      <td>0.45811</td>\n",
       "      <td>2.45176</td>\n",
       "      <td>2015</td>\n",
       "      <td>NaN</td>\n",
       "      <td>NaN</td>\n",
       "      <td>NaN</td>\n",
       "      <td>NaN</td>\n",
       "    </tr>\n",
       "  </tbody>\n",
       "</table>\n",
       "</div>"
      ],
      "text/plain": [
       "       Country          Region  Happiness Rank  Happiness Score  \\\n",
       "0  Switzerland  Western Europe               1            7.587   \n",
       "1      Iceland  Western Europe               2            7.561   \n",
       "2      Denmark  Western Europe               3            7.527   \n",
       "3       Norway  Western Europe               4            7.522   \n",
       "4       Canada   North America               5            7.427   \n",
       "\n",
       "   Standard Error  Economy (GDP per Capita)   Family  \\\n",
       "0         0.03411                   1.39651  1.34951   \n",
       "1         0.04884                   1.30232  1.40223   \n",
       "2         0.03328                   1.32548  1.36058   \n",
       "3         0.03880                   1.45900  1.33095   \n",
       "4         0.03553                   1.32629  1.32261   \n",
       "\n",
       "   Health (Life Expectancy)  Freedom  Trust (Government Corruption)  \\\n",
       "0                   0.94143  0.66557                        0.41978   \n",
       "1                   0.94784  0.62877                        0.14145   \n",
       "2                   0.87464  0.64938                        0.48357   \n",
       "3                   0.88521  0.66973                        0.36503   \n",
       "4                   0.90563  0.63297                        0.32957   \n",
       "\n",
       "   Generosity  Dystopia Residual  Year  Lower Confidence Interval  \\\n",
       "0     0.29678            2.51738  2015                        NaN   \n",
       "1     0.43630            2.70201  2015                        NaN   \n",
       "2     0.34139            2.49204  2015                        NaN   \n",
       "3     0.34699            2.46531  2015                        NaN   \n",
       "4     0.45811            2.45176  2015                        NaN   \n",
       "\n",
       "   Upper Confidence Interval  Whisker high  Whisker.low  \n",
       "0                        NaN           NaN          NaN  \n",
       "1                        NaN           NaN          NaN  \n",
       "2                        NaN           NaN          NaN  \n",
       "3                        NaN           NaN          NaN  \n",
       "4                        NaN           NaN          NaN  "
      ]
     },
     "execution_count": 39,
     "metadata": {},
     "output_type": "execute_result"
    }
   ],
   "source": [
    "datall.head()\n",
    "#Some variables are with NaN because they are not avaiable in all years"
   ]
  },
  {
   "cell_type": "markdown",
   "metadata": {},
   "source": [
    "### 1.7.  Remove variables that are not in all datasets"
   ]
  },
  {
   "cell_type": "code",
   "execution_count": 41,
   "metadata": {},
   "outputs": [],
   "source": [
    "dataf = datall.drop(['Standard Error','Dystopia Residual',\n",
    "                     'Lower Confidence Interval', 'Upper Confidence Interval','Whisker high','Whisker.low'], axis=1)"
   ]
  },
  {
   "cell_type": "code",
   "execution_count": 42,
   "metadata": {},
   "outputs": [
    {
     "data": {
      "text/plain": [
       "(782, 11)"
      ]
     },
     "execution_count": 42,
     "metadata": {},
     "output_type": "execute_result"
    }
   ],
   "source": [
    "dataf.shape"
   ]
  },
  {
   "cell_type": "code",
   "execution_count": 43,
   "metadata": {},
   "outputs": [
    {
     "name": "stdout",
     "output_type": "stream",
     "text": [
      "<class 'pandas.core.frame.DataFrame'>\n",
      "RangeIndex: 782 entries, 0 to 781\n",
      "Data columns (total 11 columns):\n",
      " #   Column                         Non-Null Count  Dtype  \n",
      "---  ------                         --------------  -----  \n",
      " 0   Country                        782 non-null    object \n",
      " 1   Region                         782 non-null    object \n",
      " 2   Happiness Rank                 782 non-null    int64  \n",
      " 3   Happiness Score                782 non-null    float64\n",
      " 4   Economy (GDP per Capita)       782 non-null    float64\n",
      " 5   Family                         782 non-null    float64\n",
      " 6   Health (Life Expectancy)       782 non-null    float64\n",
      " 7   Freedom                        782 non-null    float64\n",
      " 8   Trust (Government Corruption)  781 non-null    float64\n",
      " 9   Generosity                     782 non-null    float64\n",
      " 10  Year                           782 non-null    int64  \n",
      "dtypes: float64(7), int64(2), object(2)\n",
      "memory usage: 67.3+ KB\n"
     ]
    }
   ],
   "source": [
    "dataf.info()"
   ]
  },
  {
   "cell_type": "markdown",
   "metadata": {},
   "source": [
    "The dataset is ready to be analyzed. The next section contains analyses for our team's questions. "
   ]
  },
  {
   "cell_type": "markdown",
   "metadata": {},
   "source": [
    "## 2. Questions"
   ]
  },
  {
   "cell_type": "markdown",
   "metadata": {},
   "source": [
    "### 2.1. Are the Happiness Score and related indices associated? Does the association vary across years?"
   ]
  },
  {
   "cell_type": "code",
   "execution_count": 44,
   "metadata": {},
   "outputs": [],
   "source": [
    "dfcorr=dataf[['Happiness Score',\n",
    "       'Economy (GDP per Capita)', 'Family', 'Health (Life Expectancy)',\n",
    "       'Freedom', 'Trust (Government Corruption)', 'Generosity', 'Year']]"
   ]
  },
  {
   "cell_type": "markdown",
   "metadata": {},
   "source": [
    "Let's explore the association at year 2015"
   ]
  },
  {
   "cell_type": "code",
   "execution_count": 45,
   "metadata": {},
   "outputs": [],
   "source": [
    "dfcorr2015 = dfcorr[(dfcorr['Year'] == 2015)]\n",
    "dfcorr2015 = dfcorr2015.drop('Year', 1)\n",
    "#pd.plotting.scatter_matrix(dfcorr2015,figsize=(16, 16))"
   ]
  },
  {
   "cell_type": "code",
   "execution_count": 46,
   "metadata": {},
   "outputs": [
    {
     "data": {
      "image/png": "[encoded data removed]",
      "text/plain": [
       "<Figure size 1296x1296 with 2 Axes>"
      ]
     },
     "metadata": {
      "needs_background": "light"
     },
     "output_type": "display_data"
    }
   ],
   "source": [
    "matfig = plt.figure(figsize=(18,18))\n",
    "plt.matshow(dfcorr2015.corr(),fignum=matfig.number)\n",
    "plt.xticks(range(len(dfcorr2015.columns)), dfcorr2015.columns)\n",
    "plt.yticks(range(len(dfcorr2015.columns)), dfcorr2015.columns)\n",
    "plt.colorbar()\n",
    "plt.show()"
   ]
  },
  {
   "cell_type": "markdown",
   "metadata": {},
   "source": [
    "As we can see in the correlation plot, the happiness score is highly correlated with the GDP, family and life expectancy and less correlated with generosity in year 2015. So it might suggests that stingy people are happier 😃"
   ]
  },
  {
   "cell_type": "markdown",
   "metadata": {},
   "source": [
    "### Does the association vary across years?"
   ]
  },
  {
   "cell_type": "code",
   "execution_count": 48,
   "metadata": {},
   "outputs": [],
   "source": [
    "vyear = [2015,2016,2017,2018,2019]\n",
    "df_corr = pd.DataFrame(columns=['year', 'var1', 'var2','correlation']) #create a database that save pair of correlated variables\n",
    "for y in vyear:\n",
    "    dfcorry=dfcorr[(dfcorr['Year'] == y)] #create a database for each year\n",
    "    dfcorry=dfcorry.drop('Year', 1)\n",
    "    corr = dfcorry.corr() #Calculate the correlation matrix of year y\n",
    "    for i in range(7): #Create a database with the correlation pairs of variables\n",
    "        for j in range(i+1,7):\n",
    "            new_row = pd.Series({'year': y, 'var1': corr.columns[i], 'var2': corr.columns[j],'correlation':corr.iloc[i,j]})\n",
    "            df_corr = df_corr.append(new_row, ignore_index=True)\n"
   ]
  },
  {
   "cell_type": "code",
   "execution_count": 49,
   "metadata": {},
   "outputs": [
    {
     "data": {
      "text/html": [
       "<div>\n",
       "<style scoped>\n",
       "    .dataframe tbody tr th:only-of-type {\n",
       "        vertical-align: middle;\n",
       "    }\n",
       "\n",
       "    .dataframe tbody tr th {\n",
       "        vertical-align: top;\n",
       "    }\n",
       "\n",
       "    .dataframe thead th {\n",
       "        text-align: right;\n",
       "    }\n",
       "</style>\n",
       "<table border=\"1\" class=\"dataframe\">\n",
       "  <thead>\n",
       "    <tr style=\"text-align: right;\">\n",
       "      <th></th>\n",
       "      <th>year</th>\n",
       "      <th>var1</th>\n",
       "      <th>var2</th>\n",
       "      <th>correlation</th>\n",
       "    </tr>\n",
       "  </thead>\n",
       "  <tbody>\n",
       "    <tr>\n",
       "      <th>0</th>\n",
       "      <td>2015</td>\n",
       "      <td>Happiness Score</td>\n",
       "      <td>Economy (GDP per Capita)</td>\n",
       "      <td>0.780966</td>\n",
       "    </tr>\n",
       "    <tr>\n",
       "      <th>1</th>\n",
       "      <td>2015</td>\n",
       "      <td>Happiness Score</td>\n",
       "      <td>Family</td>\n",
       "      <td>0.740605</td>\n",
       "    </tr>\n",
       "    <tr>\n",
       "      <th>2</th>\n",
       "      <td>2015</td>\n",
       "      <td>Happiness Score</td>\n",
       "      <td>Health (Life Expectancy)</td>\n",
       "      <td>0.724200</td>\n",
       "    </tr>\n",
       "    <tr>\n",
       "      <th>3</th>\n",
       "      <td>2015</td>\n",
       "      <td>Happiness Score</td>\n",
       "      <td>Freedom</td>\n",
       "      <td>0.568211</td>\n",
       "    </tr>\n",
       "    <tr>\n",
       "      <th>4</th>\n",
       "      <td>2015</td>\n",
       "      <td>Happiness Score</td>\n",
       "      <td>Trust (Government Corruption)</td>\n",
       "      <td>0.395199</td>\n",
       "    </tr>\n",
       "  </tbody>\n",
       "</table>\n",
       "</div>"
      ],
      "text/plain": [
       "   year             var1                           var2  correlation\n",
       "0  2015  Happiness Score       Economy (GDP per Capita)     0.780966\n",
       "1  2015  Happiness Score                         Family     0.740605\n",
       "2  2015  Happiness Score       Health (Life Expectancy)     0.724200\n",
       "3  2015  Happiness Score                        Freedom     0.568211\n",
       "4  2015  Happiness Score  Trust (Government Corruption)     0.395199"
      ]
     },
     "execution_count": 49,
     "metadata": {},
     "output_type": "execute_result"
    }
   ],
   "source": [
    "df_corr.head()"
   ]
  },
  {
   "cell_type": "code",
   "execution_count": 50,
   "metadata": {},
   "outputs": [
    {
     "data": {
      "image/png": "[encoded data removed]",
      "text/plain": [
       "<Figure size 432x288 with 1 Axes>"
      ]
     },
     "metadata": {
      "needs_background": "light"
     },
     "output_type": "display_data"
    }
   ],
   "source": [
    "dfhappy = df_corr[(df_corr['var1'] == \"Happiness Score\")]\n",
    "linevar = sns.lineplot(x='year', y='correlation', hue='var2', data=dfhappy)"
   ]
  },
  {
   "cell_type": "markdown",
   "metadata": {},
   "source": [
    "We can see that the correlation of the happiness score with GDP and health expectancy increases slightly until 2017, and then the association remains stable.\n",
    "When we look at the correlation of happiness with generosity, the association decreases over time."
   ]
  },
  {
   "cell_type": "markdown",
   "metadata": {},
   "source": [
    "### 2.2. What are the happiest and least happy regions in the world? What is the region with the biggest difference between minimum and maximum happiness score?"
   ]
  },
  {
   "cell_type": "markdown",
   "metadata": {},
   "source": [
    "In this part of the analysis, we want to find happiest and least happy regions. In addition, we want to see what region has the biggest difference between Happiness Scores. Potentially, we might want to find an explanation for such a difference. "
   ]
  },
  {
   "cell_type": "code",
   "execution_count": 51,
   "metadata": {},
   "outputs": [
    {
     "data": {
      "text/html": [
       "<style  type=\"text/css\" >\n",
       "    #T_e42545ec_a569_11ea_b562_acde48001122row0_col0 {\n",
       "            background-color:  gold;\n",
       "            : ;\n",
       "        }    #T_e42545ec_a569_11ea_b562_acde48001122row0_col2 {\n",
       "            : ;\n",
       "            background-color:  red;\n",
       "        }    #T_e42545ec_a569_11ea_b562_acde48001122row0_col3 {\n",
       "            background-color:  gold;\n",
       "            : ;\n",
       "        }    #T_e42545ec_a569_11ea_b562_acde48001122row4_col2 {\n",
       "            background-color:  gold;\n",
       "            : ;\n",
       "        }    #T_e42545ec_a569_11ea_b562_acde48001122row7_col1 {\n",
       "            : ;\n",
       "            background-color:  red;\n",
       "        }    #T_e42545ec_a569_11ea_b562_acde48001122row8_col0 {\n",
       "            : ;\n",
       "            background-color:  red;\n",
       "        }    #T_e42545ec_a569_11ea_b562_acde48001122row8_col3 {\n",
       "            : ;\n",
       "            background-color:  red;\n",
       "        }    #T_e42545ec_a569_11ea_b562_acde48001122row9_col1 {\n",
       "            background-color:  gold;\n",
       "            : ;\n",
       "        }</style><table id=\"T_e42545ec_a569_11ea_b562_acde48001122\" ><thead>    <tr>        <th class=\"blank level0\" ></th>        <th class=\"col_heading level0 col0\" colspan=4>Happiness Score</th>    </tr>    <tr>        <th class=\"blank level1\" ></th>        <th class=\"col_heading level1 col0\" >amin</th>        <th class=\"col_heading level1 col1\" >amax</th>        <th class=\"col_heading level1 col2\" >ptp</th>        <th class=\"col_heading level1 col3\" >mean</th>    </tr>    <tr>        <th class=\"index_name level0\" >Region</th>        <th class=\"blank\" ></th>        <th class=\"blank\" ></th>        <th class=\"blank\" ></th>        <th class=\"blank\" ></th>    </tr></thead><tbody>\n",
       "                <tr>\n",
       "                        <th id=\"T_e42545ec_a569_11ea_b562_acde48001122level0_row0\" class=\"row_heading level0 row0\" >Australia and New Zealand</th>\n",
       "                        <td id=\"T_e42545ec_a569_11ea_b562_acde48001122row0_col0\" class=\"data row0 col0\" >7.228000</td>\n",
       "                        <td id=\"T_e42545ec_a569_11ea_b562_acde48001122row0_col1\" class=\"data row0 col1\" >7.334000</td>\n",
       "                        <td id=\"T_e42545ec_a569_11ea_b562_acde48001122row0_col2\" class=\"data row0 col2\" >0.106000</td>\n",
       "                        <td id=\"T_e42545ec_a569_11ea_b562_acde48001122row0_col3\" class=\"data row0 col3\" >7.294600</td>\n",
       "            </tr>\n",
       "            <tr>\n",
       "                        <th id=\"T_e42545ec_a569_11ea_b562_acde48001122level0_row1\" class=\"row_heading level0 row1\" >Central and Eastern Europe</th>\n",
       "                        <td id=\"T_e42545ec_a569_11ea_b562_acde48001122row1_col0\" class=\"data row1 col0\" >4.096000</td>\n",
       "                        <td id=\"T_e42545ec_a569_11ea_b562_acde48001122row1_col1\" class=\"data row1 col1\" >6.852000</td>\n",
       "                        <td id=\"T_e42545ec_a569_11ea_b562_acde48001122row1_col2\" class=\"data row1 col2\" >2.756000</td>\n",
       "                        <td id=\"T_e42545ec_a569_11ea_b562_acde48001122row1_col3\" class=\"data row1 col3\" >5.427807</td>\n",
       "            </tr>\n",
       "            <tr>\n",
       "                        <th id=\"T_e42545ec_a569_11ea_b562_acde48001122level0_row2\" class=\"row_heading level0 row2\" >Eastern Asia</th>\n",
       "                        <td id=\"T_e42545ec_a569_11ea_b562_acde48001122row2_col0\" class=\"data row2 col0\" >4.874000</td>\n",
       "                        <td id=\"T_e42545ec_a569_11ea_b562_acde48001122row2_col1\" class=\"data row2 col1\" >6.446000</td>\n",
       "                        <td id=\"T_e42545ec_a569_11ea_b562_acde48001122row2_col2\" class=\"data row2 col2\" >1.572000</td>\n",
       "                        <td id=\"T_e42545ec_a569_11ea_b562_acde48001122row2_col3\" class=\"data row2 col3\" >5.651567</td>\n",
       "            </tr>\n",
       "            <tr>\n",
       "                        <th id=\"T_e42545ec_a569_11ea_b562_acde48001122level0_row3\" class=\"row_heading level0 row3\" >Latin America and Caribbean</th>\n",
       "                        <td id=\"T_e42545ec_a569_11ea_b562_acde48001122row3_col0\" class=\"data row3 col0\" >3.582000</td>\n",
       "                        <td id=\"T_e42545ec_a569_11ea_b562_acde48001122row3_col1\" class=\"data row3 col1\" >7.226000</td>\n",
       "                        <td id=\"T_e42545ec_a569_11ea_b562_acde48001122row3_col2\" class=\"data row3 col2\" >3.644000</td>\n",
       "                        <td id=\"T_e42545ec_a569_11ea_b562_acde48001122row3_col3\" class=\"data row3 col3\" >6.023811</td>\n",
       "            </tr>\n",
       "            <tr>\n",
       "                        <th id=\"T_e42545ec_a569_11ea_b562_acde48001122level0_row4\" class=\"row_heading level0 row4\" >Middle East and Northern Africa</th>\n",
       "                        <td id=\"T_e42545ec_a569_11ea_b562_acde48001122row4_col0\" class=\"data row4 col0\" >3.006000</td>\n",
       "                        <td id=\"T_e42545ec_a569_11ea_b562_acde48001122row4_col1\" class=\"data row4 col1\" >7.278000</td>\n",
       "                        <td id=\"T_e42545ec_a569_11ea_b562_acde48001122row4_col2\" class=\"data row4 col2\" >4.272000</td>\n",
       "                        <td id=\"T_e42545ec_a569_11ea_b562_acde48001122row4_col3\" class=\"data row4 col3\" >5.337208</td>\n",
       "            </tr>\n",
       "            <tr>\n",
       "                        <th id=\"T_e42545ec_a569_11ea_b562_acde48001122level0_row5\" class=\"row_heading level0 row5\" >North America</th>\n",
       "                        <td id=\"T_e42545ec_a569_11ea_b562_acde48001122row5_col0\" class=\"data row5 col0\" >6.886000</td>\n",
       "                        <td id=\"T_e42545ec_a569_11ea_b562_acde48001122row5_col1\" class=\"data row5 col1\" >7.427000</td>\n",
       "                        <td id=\"T_e42545ec_a569_11ea_b562_acde48001122row5_col2\" class=\"data row5 col2\" >0.541000</td>\n",
       "                        <td id=\"T_e42545ec_a569_11ea_b562_acde48001122row5_col3\" class=\"data row5 col3\" >7.174700</td>\n",
       "            </tr>\n",
       "            <tr>\n",
       "                        <th id=\"T_e42545ec_a569_11ea_b562_acde48001122level0_row6\" class=\"row_heading level0 row6\" >Southeastern Asia</th>\n",
       "                        <td id=\"T_e42545ec_a569_11ea_b562_acde48001122row6_col0\" class=\"data row6 col0\" >3.819000</td>\n",
       "                        <td id=\"T_e42545ec_a569_11ea_b562_acde48001122row6_col1\" class=\"data row6 col1\" >6.798000</td>\n",
       "                        <td id=\"T_e42545ec_a569_11ea_b562_acde48001122row6_col2\" class=\"data row6 col2\" >2.979000</td>\n",
       "                        <td id=\"T_e42545ec_a569_11ea_b562_acde48001122row6_col3\" class=\"data row6 col3\" >5.335227</td>\n",
       "            </tr>\n",
       "            <tr>\n",
       "                        <th id=\"T_e42545ec_a569_11ea_b562_acde48001122level0_row7\" class=\"row_heading level0 row7\" >Southern Asia</th>\n",
       "                        <td id=\"T_e42545ec_a569_11ea_b562_acde48001122row7_col0\" class=\"data row7 col0\" >3.203000</td>\n",
       "                        <td id=\"T_e42545ec_a569_11ea_b562_acde48001122row7_col1\" class=\"data row7 col1\" >5.653000</td>\n",
       "                        <td id=\"T_e42545ec_a569_11ea_b562_acde48001122row7_col2\" class=\"data row7 col2\" >2.450000</td>\n",
       "                        <td id=\"T_e42545ec_a569_11ea_b562_acde48001122row7_col3\" class=\"data row7 col3\" >4.580657</td>\n",
       "            </tr>\n",
       "            <tr>\n",
       "                        <th id=\"T_e42545ec_a569_11ea_b562_acde48001122level0_row8\" class=\"row_heading level0 row8\" >Sub-Saharan Africa</th>\n",
       "                        <td id=\"T_e42545ec_a569_11ea_b562_acde48001122row8_col0\" class=\"data row8 col0\" >2.693000</td>\n",
       "                        <td id=\"T_e42545ec_a569_11ea_b562_acde48001122row8_col1\" class=\"data row8 col1\" >5.891000</td>\n",
       "                        <td id=\"T_e42545ec_a569_11ea_b562_acde48001122row8_col2\" class=\"data row8 col2\" >3.198000</td>\n",
       "                        <td id=\"T_e42545ec_a569_11ea_b562_acde48001122row8_col3\" class=\"data row8 col3\" >4.190153</td>\n",
       "            </tr>\n",
       "            <tr>\n",
       "                        <th id=\"T_e42545ec_a569_11ea_b562_acde48001122level0_row9\" class=\"row_heading level0 row9\" >Western Europe</th>\n",
       "                        <td id=\"T_e42545ec_a569_11ea_b562_acde48001122row9_col0\" class=\"data row9 col0\" >4.857000</td>\n",
       "                        <td id=\"T_e42545ec_a569_11ea_b562_acde48001122row9_col1\" class=\"data row9 col1\" >7.769000</td>\n",
       "                        <td id=\"T_e42545ec_a569_11ea_b562_acde48001122row9_col2\" class=\"data row9 col2\" >2.912000</td>\n",
       "                        <td id=\"T_e42545ec_a569_11ea_b562_acde48001122row9_col3\" class=\"data row9 col3\" >6.740590</td>\n",
       "            </tr>\n",
       "    </tbody></table>"
      ],
      "text/plain": [
       "<pandas.io.formats.style.Styler at 0x1114dd550>"
      ]
     },
     "execution_count": 51,
     "metadata": {},
     "output_type": "execute_result"
    }
   ],
   "source": [
    "grouped_region = dataf.groupby(['Region']) # Slice the main dataframe into a new variable to have a grouped by regions dataframe\n",
    "grouped_region = grouped_region.agg({'Happiness Score' : [np.min, np.max, np.ptp, np.mean]}) # Prepare a table with aggregated min, max, difference, and mean of Happiness Scores per region\n",
    "\n",
    "# To make it more visualized, prepare two functions that will highlight biggest and smallest values in each column\n",
    "def highlight_max(s): \n",
    "    #highlight the maximum in a Series yellow.\n",
    "    is_max = s == s.max()\n",
    "    return ['background-color: gold' if v else '' for v in is_max]\n",
    "\n",
    "def highlight_min(s):\n",
    "    #highlight the minimum in a Series red.\n",
    "    is_min = s == s.min()\n",
    "    return ['background-color: red' if v else '' for v in is_min]\n",
    "\n",
    "# Apply the style to the dataframe with aggregated Happiness Scores\n",
    "grouped_region.style.\\\n",
    "    apply(highlight_max).\\\n",
    "    apply(highlight_min)"
   ]
  },
  {
   "cell_type": "markdown",
   "metadata": {},
   "source": [
    "We see that *Australia and New Zealand* is the happiest region in the world, and *Southern Asia* - the least happy region. The region *Middle East and Northern Africa* has the biggest difference in the Happiness Score. Let's look into the data of countries in this region to see where the difference is coming from. "
   ]
  },
  {
   "cell_type": "code",
   "execution_count": 52,
   "metadata": {},
   "outputs": [
    {
     "data": {
      "text/html": [
       "<style  type=\"text/css\" >\n",
       "    #T_074b053e_a56a_11ea_b562_acde48001122row0_col2 {\n",
       "            background-color:  gold;\n",
       "            : ;\n",
       "        }    #T_074b053e_a56a_11ea_b562_acde48001122row5_col1 {\n",
       "            background-color:  gold;\n",
       "            : ;\n",
       "        }    #T_074b053e_a56a_11ea_b562_acde48001122row5_col3 {\n",
       "            background-color:  gold;\n",
       "            : ;\n",
       "        }    #T_074b053e_a56a_11ea_b562_acde48001122row11_col0 {\n",
       "            background-color:  gold;\n",
       "            : ;\n",
       "        }    #T_074b053e_a56a_11ea_b562_acde48001122row11_col2 {\n",
       "            : ;\n",
       "            background-color:  red;\n",
       "        }    #T_074b053e_a56a_11ea_b562_acde48001122row15_col0 {\n",
       "            : ;\n",
       "            background-color:  red;\n",
       "        }    #T_074b053e_a56a_11ea_b562_acde48001122row15_col1 {\n",
       "            : ;\n",
       "            background-color:  red;\n",
       "        }    #T_074b053e_a56a_11ea_b562_acde48001122row15_col3 {\n",
       "            : ;\n",
       "            background-color:  red;\n",
       "        }</style><table id=\"T_074b053e_a56a_11ea_b562_acde48001122\" ><thead>    <tr>        <th class=\"blank level0\" ></th>        <th class=\"col_heading level0 col0\" colspan=4>Happiness Score</th>    </tr>    <tr>        <th class=\"blank level1\" ></th>        <th class=\"col_heading level1 col0\" >amin</th>        <th class=\"col_heading level1 col1\" >amax</th>        <th class=\"col_heading level1 col2\" >ptp</th>        <th class=\"col_heading level1 col3\" >mean</th>    </tr>    <tr>        <th class=\"index_name level0\" >Country</th>        <th class=\"blank\" ></th>        <th class=\"blank\" ></th>        <th class=\"blank\" ></th>        <th class=\"blank\" ></th>    </tr></thead><tbody>\n",
       "                <tr>\n",
       "                        <th id=\"T_074b053e_a56a_11ea_b562_acde48001122level0_row0\" class=\"row_heading level0 row0\" >Algeria</th>\n",
       "                        <td id=\"T_074b053e_a56a_11ea_b562_acde48001122row0_col0\" class=\"data row0 col0\" >5.211000</td>\n",
       "                        <td id=\"T_074b053e_a56a_11ea_b562_acde48001122row0_col1\" class=\"data row0 col1\" >6.355000</td>\n",
       "                        <td id=\"T_074b053e_a56a_11ea_b562_acde48001122row0_col2\" class=\"data row0 col2\" >1.144000</td>\n",
       "                        <td id=\"T_074b053e_a56a_11ea_b562_acde48001122row0_col3\" class=\"data row0 col3\" >5.667600</td>\n",
       "            </tr>\n",
       "            <tr>\n",
       "                        <th id=\"T_074b053e_a56a_11ea_b562_acde48001122level0_row1\" class=\"row_heading level0 row1\" >Bahrain</th>\n",
       "                        <td id=\"T_074b053e_a56a_11ea_b562_acde48001122row1_col0\" class=\"data row1 col0\" >5.960000</td>\n",
       "                        <td id=\"T_074b053e_a56a_11ea_b562_acde48001122row1_col1\" class=\"data row1 col1\" >6.218000</td>\n",
       "                        <td id=\"T_074b053e_a56a_11ea_b562_acde48001122row1_col2\" class=\"data row1 col2\" >0.258000</td>\n",
       "                        <td id=\"T_074b053e_a56a_11ea_b562_acde48001122row1_col3\" class=\"data row1 col3\" >6.113800</td>\n",
       "            </tr>\n",
       "            <tr>\n",
       "                        <th id=\"T_074b053e_a56a_11ea_b562_acde48001122level0_row2\" class=\"row_heading level0 row2\" >Egypt</th>\n",
       "                        <td id=\"T_074b053e_a56a_11ea_b562_acde48001122row2_col0\" class=\"data row2 col0\" >4.166000</td>\n",
       "                        <td id=\"T_074b053e_a56a_11ea_b562_acde48001122row2_col1\" class=\"data row2 col1\" >4.735000</td>\n",
       "                        <td id=\"T_074b053e_a56a_11ea_b562_acde48001122row2_col2\" class=\"data row2 col2\" >0.569000</td>\n",
       "                        <td id=\"T_074b053e_a56a_11ea_b562_acde48001122row2_col3\" class=\"data row2 col3\" >4.375200</td>\n",
       "            </tr>\n",
       "            <tr>\n",
       "                        <th id=\"T_074b053e_a56a_11ea_b562_acde48001122level0_row3\" class=\"row_heading level0 row3\" >Iran</th>\n",
       "                        <td id=\"T_074b053e_a56a_11ea_b562_acde48001122row3_col0\" class=\"data row3 col0\" >4.548000</td>\n",
       "                        <td id=\"T_074b053e_a56a_11ea_b562_acde48001122row3_col1\" class=\"data row3 col1\" >4.813000</td>\n",
       "                        <td id=\"T_074b053e_a56a_11ea_b562_acde48001122row3_col2\" class=\"data row3 col2\" >0.265000</td>\n",
       "                        <td id=\"T_074b053e_a56a_11ea_b562_acde48001122row3_col3\" class=\"data row3 col3\" >4.689200</td>\n",
       "            </tr>\n",
       "            <tr>\n",
       "                        <th id=\"T_074b053e_a56a_11ea_b562_acde48001122level0_row4\" class=\"row_heading level0 row4\" >Iraq</th>\n",
       "                        <td id=\"T_074b053e_a56a_11ea_b562_acde48001122row4_col0\" class=\"data row4 col0\" >4.437000</td>\n",
       "                        <td id=\"T_074b053e_a56a_11ea_b562_acde48001122row4_col1\" class=\"data row4 col1\" >4.677000</td>\n",
       "                        <td id=\"T_074b053e_a56a_11ea_b562_acde48001122row4_col2\" class=\"data row4 col2\" >0.240000</td>\n",
       "                        <td id=\"T_074b053e_a56a_11ea_b562_acde48001122row4_col3\" class=\"data row4 col3\" >4.528400</td>\n",
       "            </tr>\n",
       "            <tr>\n",
       "                        <th id=\"T_074b053e_a56a_11ea_b562_acde48001122level0_row5\" class=\"row_heading level0 row5\" >Israel</th>\n",
       "                        <td id=\"T_074b053e_a56a_11ea_b562_acde48001122row5_col0\" class=\"data row5 col0\" >6.814000</td>\n",
       "                        <td id=\"T_074b053e_a56a_11ea_b562_acde48001122row5_col1\" class=\"data row5 col1\" >7.278000</td>\n",
       "                        <td id=\"T_074b053e_a56a_11ea_b562_acde48001122row5_col2\" class=\"data row5 col2\" >0.464000</td>\n",
       "                        <td id=\"T_074b053e_a56a_11ea_b562_acde48001122row5_col3\" class=\"data row5 col3\" >7.142200</td>\n",
       "            </tr>\n",
       "            <tr>\n",
       "                        <th id=\"T_074b053e_a56a_11ea_b562_acde48001122level0_row6\" class=\"row_heading level0 row6\" >Jordan</th>\n",
       "                        <td id=\"T_074b053e_a56a_11ea_b562_acde48001122row6_col0\" class=\"data row6 col0\" >4.906000</td>\n",
       "                        <td id=\"T_074b053e_a56a_11ea_b562_acde48001122row6_col1\" class=\"data row6 col1\" >5.336000</td>\n",
       "                        <td id=\"T_074b053e_a56a_11ea_b562_acde48001122row6_col2\" class=\"data row6 col2\" >0.430000</td>\n",
       "                        <td id=\"T_074b053e_a56a_11ea_b562_acde48001122row6_col3\" class=\"data row6 col3\" >5.179600</td>\n",
       "            </tr>\n",
       "            <tr>\n",
       "                        <th id=\"T_074b053e_a56a_11ea_b562_acde48001122level0_row7\" class=\"row_heading level0 row7\" >Kuwait</th>\n",
       "                        <td id=\"T_074b053e_a56a_11ea_b562_acde48001122row7_col0\" class=\"data row7 col0\" >6.021000</td>\n",
       "                        <td id=\"T_074b053e_a56a_11ea_b562_acde48001122row7_col1\" class=\"data row7 col1\" >6.295000</td>\n",
       "                        <td id=\"T_074b053e_a56a_11ea_b562_acde48001122row7_col2\" class=\"data row7 col2\" >0.274000</td>\n",
       "                        <td id=\"T_074b053e_a56a_11ea_b562_acde48001122row7_col3\" class=\"data row7 col3\" >6.148600</td>\n",
       "            </tr>\n",
       "            <tr>\n",
       "                        <th id=\"T_074b053e_a56a_11ea_b562_acde48001122level0_row8\" class=\"row_heading level0 row8\" >Lebanon</th>\n",
       "                        <td id=\"T_074b053e_a56a_11ea_b562_acde48001122row8_col0\" class=\"data row8 col0\" >4.839000</td>\n",
       "                        <td id=\"T_074b053e_a56a_11ea_b562_acde48001122row8_col1\" class=\"data row8 col1\" >5.358000</td>\n",
       "                        <td id=\"T_074b053e_a56a_11ea_b562_acde48001122row8_col2\" class=\"data row8 col2\" >0.519000</td>\n",
       "                        <td id=\"T_074b053e_a56a_11ea_b562_acde48001122row8_col3\" class=\"data row8 col3\" >5.149600</td>\n",
       "            </tr>\n",
       "            <tr>\n",
       "                        <th id=\"T_074b053e_a56a_11ea_b562_acde48001122level0_row9\" class=\"row_heading level0 row9\" >Libya</th>\n",
       "                        <td id=\"T_074b053e_a56a_11ea_b562_acde48001122row9_col0\" class=\"data row9 col0\" >5.525000</td>\n",
       "                        <td id=\"T_074b053e_a56a_11ea_b562_acde48001122row9_col1\" class=\"data row9 col1\" >5.754000</td>\n",
       "                        <td id=\"T_074b053e_a56a_11ea_b562_acde48001122row9_col2\" class=\"data row9 col2\" >0.229000</td>\n",
       "                        <td id=\"T_074b053e_a56a_11ea_b562_acde48001122row9_col3\" class=\"data row9 col3\" >5.597000</td>\n",
       "            </tr>\n",
       "            <tr>\n",
       "                        <th id=\"T_074b053e_a56a_11ea_b562_acde48001122level0_row10\" class=\"row_heading level0 row10\" >Morocco</th>\n",
       "                        <td id=\"T_074b053e_a56a_11ea_b562_acde48001122row10_col0\" class=\"data row10 col0\" >5.013000</td>\n",
       "                        <td id=\"T_074b053e_a56a_11ea_b562_acde48001122row10_col1\" class=\"data row10 col1\" >5.254000</td>\n",
       "                        <td id=\"T_074b053e_a56a_11ea_b562_acde48001122row10_col2\" class=\"data row10 col2\" >0.241000</td>\n",
       "                        <td id=\"T_074b053e_a56a_11ea_b562_acde48001122row10_col3\" class=\"data row10 col3\" >5.172200</td>\n",
       "            </tr>\n",
       "            <tr>\n",
       "                        <th id=\"T_074b053e_a56a_11ea_b562_acde48001122level0_row11\" class=\"row_heading level0 row11\" >Oman</th>\n",
       "                        <td id=\"T_074b053e_a56a_11ea_b562_acde48001122row11_col0\" class=\"data row11 col0\" >6.853000</td>\n",
       "                        <td id=\"T_074b053e_a56a_11ea_b562_acde48001122row11_col1\" class=\"data row11 col1\" >6.853000</td>\n",
       "                        <td id=\"T_074b053e_a56a_11ea_b562_acde48001122row11_col2\" class=\"data row11 col2\" >0.000000</td>\n",
       "                        <td id=\"T_074b053e_a56a_11ea_b562_acde48001122row11_col3\" class=\"data row11 col3\" >6.853000</td>\n",
       "            </tr>\n",
       "            <tr>\n",
       "                        <th id=\"T_074b053e_a56a_11ea_b562_acde48001122level0_row12\" class=\"row_heading level0 row12\" >Palestinian Territories</th>\n",
       "                        <td id=\"T_074b053e_a56a_11ea_b562_acde48001122row12_col0\" class=\"data row12 col0\" >4.696000</td>\n",
       "                        <td id=\"T_074b053e_a56a_11ea_b562_acde48001122row12_col1\" class=\"data row12 col1\" >4.775000</td>\n",
       "                        <td id=\"T_074b053e_a56a_11ea_b562_acde48001122row12_col2\" class=\"data row12 col2\" >0.079000</td>\n",
       "                        <td id=\"T_074b053e_a56a_11ea_b562_acde48001122row12_col3\" class=\"data row12 col3\" >4.736600</td>\n",
       "            </tr>\n",
       "            <tr>\n",
       "                        <th id=\"T_074b053e_a56a_11ea_b562_acde48001122level0_row13\" class=\"row_heading level0 row13\" >Qatar</th>\n",
       "                        <td id=\"T_074b053e_a56a_11ea_b562_acde48001122row13_col0\" class=\"data row13 col0\" >6.374000</td>\n",
       "                        <td id=\"T_074b053e_a56a_11ea_b562_acde48001122row13_col1\" class=\"data row13 col1\" >6.611000</td>\n",
       "                        <td id=\"T_074b053e_a56a_11ea_b562_acde48001122row13_col2\" class=\"data row13 col2\" >0.237000</td>\n",
       "                        <td id=\"T_074b053e_a56a_11ea_b562_acde48001122row13_col3\" class=\"data row13 col3\" >6.421800</td>\n",
       "            </tr>\n",
       "            <tr>\n",
       "                        <th id=\"T_074b053e_a56a_11ea_b562_acde48001122level0_row14\" class=\"row_heading level0 row14\" >Saudi Arabia</th>\n",
       "                        <td id=\"T_074b053e_a56a_11ea_b562_acde48001122row14_col0\" class=\"data row14 col0\" >6.344000</td>\n",
       "                        <td id=\"T_074b053e_a56a_11ea_b562_acde48001122row14_col1\" class=\"data row14 col1\" >6.411000</td>\n",
       "                        <td id=\"T_074b053e_a56a_11ea_b562_acde48001122row14_col2\" class=\"data row14 col2\" >0.067000</td>\n",
       "                        <td id=\"T_074b053e_a56a_11ea_b562_acde48001122row14_col3\" class=\"data row14 col3\" >6.376000</td>\n",
       "            </tr>\n",
       "            <tr>\n",
       "                        <th id=\"T_074b053e_a56a_11ea_b562_acde48001122level0_row15\" class=\"row_heading level0 row15\" >Syria</th>\n",
       "                        <td id=\"T_074b053e_a56a_11ea_b562_acde48001122row15_col0\" class=\"data row15 col0\" >3.006000</td>\n",
       "                        <td id=\"T_074b053e_a56a_11ea_b562_acde48001122row15_col1\" class=\"data row15 col1\" >3.462000</td>\n",
       "                        <td id=\"T_074b053e_a56a_11ea_b562_acde48001122row15_col2\" class=\"data row15 col2\" >0.456000</td>\n",
       "                        <td id=\"T_074b053e_a56a_11ea_b562_acde48001122row15_col3\" class=\"data row15 col3\" >3.292200</td>\n",
       "            </tr>\n",
       "            <tr>\n",
       "                        <th id=\"T_074b053e_a56a_11ea_b562_acde48001122level0_row16\" class=\"row_heading level0 row16\" >Tunisia</th>\n",
       "                        <td id=\"T_074b053e_a56a_11ea_b562_acde48001122row16_col0\" class=\"data row16 col0\" >4.461000</td>\n",
       "                        <td id=\"T_074b053e_a56a_11ea_b562_acde48001122row16_col1\" class=\"data row16 col1\" >5.045000</td>\n",
       "                        <td id=\"T_074b053e_a56a_11ea_b562_acde48001122row16_col2\" class=\"data row16 col2\" >0.584000</td>\n",
       "                        <td id=\"T_074b053e_a56a_11ea_b562_acde48001122row16_col3\" class=\"data row16 col3\" >4.728400</td>\n",
       "            </tr>\n",
       "            <tr>\n",
       "                        <th id=\"T_074b053e_a56a_11ea_b562_acde48001122level0_row17\" class=\"row_heading level0 row17\" >Turkey</th>\n",
       "                        <td id=\"T_074b053e_a56a_11ea_b562_acde48001122row17_col0\" class=\"data row17 col0\" >5.332000</td>\n",
       "                        <td id=\"T_074b053e_a56a_11ea_b562_acde48001122row17_col1\" class=\"data row17 col1\" >5.500000</td>\n",
       "                        <td id=\"T_074b053e_a56a_11ea_b562_acde48001122row17_col2\" class=\"data row17 col2\" >0.168000</td>\n",
       "                        <td id=\"T_074b053e_a56a_11ea_b562_acde48001122row17_col3\" class=\"data row17 col3\" >5.415400</td>\n",
       "            </tr>\n",
       "            <tr>\n",
       "                        <th id=\"T_074b053e_a56a_11ea_b562_acde48001122level0_row18\" class=\"row_heading level0 row18\" >United Arab Emirates</th>\n",
       "                        <td id=\"T_074b053e_a56a_11ea_b562_acde48001122row18_col0\" class=\"data row18 col0\" >6.573000</td>\n",
       "                        <td id=\"T_074b053e_a56a_11ea_b562_acde48001122row18_col1\" class=\"data row18 col1\" >6.901000</td>\n",
       "                        <td id=\"T_074b053e_a56a_11ea_b562_acde48001122row18_col2\" class=\"data row18 col2\" >0.328000</td>\n",
       "                        <td id=\"T_074b053e_a56a_11ea_b562_acde48001122row18_col3\" class=\"data row18 col3\" >6.744200</td>\n",
       "            </tr>\n",
       "            <tr>\n",
       "                        <th id=\"T_074b053e_a56a_11ea_b562_acde48001122level0_row19\" class=\"row_heading level0 row19\" >Yemen</th>\n",
       "                        <td id=\"T_074b053e_a56a_11ea_b562_acde48001122row19_col0\" class=\"data row19 col0\" >3.355000</td>\n",
       "                        <td id=\"T_074b053e_a56a_11ea_b562_acde48001122row19_col1\" class=\"data row19 col1\" >4.077000</td>\n",
       "                        <td id=\"T_074b053e_a56a_11ea_b562_acde48001122row19_col2\" class=\"data row19 col2\" >0.722000</td>\n",
       "                        <td id=\"T_074b053e_a56a_11ea_b562_acde48001122row19_col3\" class=\"data row19 col3\" >3.625800</td>\n",
       "            </tr>\n",
       "    </tbody></table>"
      ],
      "text/plain": [
       "<pandas.io.formats.style.Styler at 0x114b9de80>"
      ]
     },
     "execution_count": 52,
     "metadata": {},
     "output_type": "execute_result"
    }
   ],
   "source": [
    "me_na_region = dataf.loc[dataf['Region'] == 'Middle East and Northern Africa'] # Select only countries that belong to Middle East and Northern Africa region. \n",
    "grouped_me_na = me_na_region.groupby(['Country']).agg({'Happiness Score' : [np.min, np.max, np.ptp, np.mean]}) #Group data by country and show minimum and maximum happibess score for each country, their difference, and the mean of happines scores\n",
    "grouped_me_na.style.\\\n",
    "    apply(highlight_max).\\\n",
    "    apply(highlight_min)"
   ]
  },
  {
   "cell_type": "markdown",
   "metadata": {},
   "source": [
    "We can see that Syria has both lowest Minimum and Maximum Happiness Score acrossd the years, as well as the mean. We can build a graph to visualize the difference between countries."
   ]
  },
  {
   "cell_type": "code",
   "execution_count": 54,
   "metadata": {},
   "outputs": [
    {
     "data": {
      "text/plain": [
       "<matplotlib.axes._subplots.AxesSubplot at 0x114b9da90>"
      ]
     },
     "execution_count": 54,
     "metadata": {},
     "output_type": "execute_result"
    },
    {
     "data": {
      "image/png": "[encoded data removed]",
      "text/plain": [
       "<Figure size 432x288 with 1 Axes>"
      ]
     },
     "metadata": {
      "needs_background": "light"
     },
     "output_type": "display_data"
    }
   ],
   "source": [
    "mean_me_na = me_na_region.groupby(['Country']).mean() \n",
    "# Prepare a dataframe with means of all variables grouped by country\n",
    "mean_me_na['Happiness Score'].sort_values(ascending=True).plot(kind='barh', \n",
    "                        title = 'Happiness Scores of countries in the Middle East and Northern Africa region', \n",
    "                        legend = True, fontsize = 15) \n",
    "# Build a horizontal bar plot"
   ]
  },
  {
   "cell_type": "markdown",
   "metadata": {},
   "source": [
    "Based on the visual observation, we can see that Yemen and Syria have the biggest 'step' away from their neighboring countries. Both countries have been in civil war for the past 5 years, which, although highly speculative, can partially explain low Happiness Score there. We can compare how well other variables explain Happiness Score in the countries to see if it might be the case."
   ]
  },
  {
   "cell_type": "code",
   "execution_count": 55,
   "metadata": {},
   "outputs": [
    {
     "data": {
      "text/html": [
       "<style  type=\"text/css\" >\n",
       "    #T_4e99aa6c_a56a_11ea_b562_acde48001122row4_col2 {\n",
       "            background-color:  red;\n",
       "        }    #T_4e99aa6c_a56a_11ea_b562_acde48001122row8_col8 {\n",
       "            background-color:  red;\n",
       "        }    #T_4e99aa6c_a56a_11ea_b562_acde48001122row10_col10 {\n",
       "            background-color:  red;\n",
       "        }    #T_4e99aa6c_a56a_11ea_b562_acde48001122row15_col3 {\n",
       "            background-color:  red;\n",
       "        }    #T_4e99aa6c_a56a_11ea_b562_acde48001122row15_col6 {\n",
       "            background-color:  red;\n",
       "        }    #T_4e99aa6c_a56a_11ea_b562_acde48001122row15_col7 {\n",
       "            background-color:  red;\n",
       "        }    #T_4e99aa6c_a56a_11ea_b562_acde48001122row16_col11 {\n",
       "            background-color:  red;\n",
       "        }    #T_4e99aa6c_a56a_11ea_b562_acde48001122row19_col0 {\n",
       "            background-color:  red;\n",
       "        }    #T_4e99aa6c_a56a_11ea_b562_acde48001122row19_col1 {\n",
       "            background-color:  red;\n",
       "        }    #T_4e99aa6c_a56a_11ea_b562_acde48001122row19_col4 {\n",
       "            background-color:  red;\n",
       "        }    #T_4e99aa6c_a56a_11ea_b562_acde48001122row19_col5 {\n",
       "            background-color:  red;\n",
       "        }    #T_4e99aa6c_a56a_11ea_b562_acde48001122row19_col9 {\n",
       "            background-color:  red;\n",
       "        }</style><table id=\"T_4e99aa6c_a56a_11ea_b562_acde48001122\" ><thead>    <tr>        <th class=\"blank level0\" ></th>        <th class=\"col_heading level0 col0\" colspan=2>Economy (GDP per Capita)</th>        <th class=\"col_heading level0 col2\" colspan=2>Freedom</th>        <th class=\"col_heading level0 col4\" colspan=2>Health (Life Expectancy)</th>        <th class=\"col_heading level0 col6\" colspan=2>Family</th>        <th class=\"col_heading level0 col8\" colspan=2>Trust (Government Corruption)</th>        <th class=\"col_heading level0 col10\" colspan=2>Generosity</th>    </tr>    <tr>        <th class=\"blank level1\" ></th>        <th class=\"col_heading level1 col0\" >amin</th>        <th class=\"col_heading level1 col1\" >amax</th>        <th class=\"col_heading level1 col2\" >amin</th>        <th class=\"col_heading level1 col3\" >amax</th>        <th class=\"col_heading level1 col4\" >amin</th>        <th class=\"col_heading level1 col5\" >amax</th>        <th class=\"col_heading level1 col6\" >amin</th>        <th class=\"col_heading level1 col7\" >amax</th>        <th class=\"col_heading level1 col8\" >amin</th>        <th class=\"col_heading level1 col9\" >amax</th>        <th class=\"col_heading level1 col10\" >amin</th>        <th class=\"col_heading level1 col11\" >amax</th>    </tr>    <tr>        <th class=\"index_name level0\" >Country</th>        <th class=\"blank\" ></th>        <th class=\"blank\" ></th>        <th class=\"blank\" ></th>        <th class=\"blank\" ></th>        <th class=\"blank\" ></th>        <th class=\"blank\" ></th>        <th class=\"blank\" ></th>        <th class=\"blank\" ></th>        <th class=\"blank\" ></th>        <th class=\"blank\" ></th>        <th class=\"blank\" ></th>        <th class=\"blank\" ></th>    </tr></thead><tbody>\n",
       "                <tr>\n",
       "                        <th id=\"T_4e99aa6c_a56a_11ea_b562_acde48001122level0_row0\" class=\"row_heading level0 row0\" >Algeria</th>\n",
       "                        <td id=\"T_4e99aa6c_a56a_11ea_b562_acde48001122row0_col0\" class=\"data row0 col0\" >0.939290</td>\n",
       "                        <td id=\"T_4e99aa6c_a56a_11ea_b562_acde48001122row0_col1\" class=\"data row0 col1\" >1.091864</td>\n",
       "                        <td id=\"T_4e99aa6c_a56a_11ea_b562_acde48001122row0_col2\" class=\"data row0 col2\" >0.077000</td>\n",
       "                        <td id=\"T_4e99aa6c_a56a_11ea_b562_acde48001122row0_col3\" class=\"data row0 col3\" >0.285790</td>\n",
       "                        <td id=\"T_4e99aa6c_a56a_11ea_b562_acde48001122row0_col4\" class=\"data row0 col4\" >0.617585</td>\n",
       "                        <td id=\"T_4e99aa6c_a56a_11ea_b562_acde48001122row0_col5\" class=\"data row0 col5\" >0.785000</td>\n",
       "                        <td id=\"T_4e99aa6c_a56a_11ea_b562_acde48001122row0_col6\" class=\"data row0 col6\" >0.833090</td>\n",
       "                        <td id=\"T_4e99aa6c_a56a_11ea_b562_acde48001122row0_col7\" class=\"data row0 col7\" >1.160000</td>\n",
       "                        <td id=\"T_4e99aa6c_a56a_11ea_b562_acde48001122row0_col8\" class=\"data row0 col8\" >0.114000</td>\n",
       "                        <td id=\"T_4e99aa6c_a56a_11ea_b562_acde48001122row0_col9\" class=\"data row0 col9\" >0.173830</td>\n",
       "                        <td id=\"T_4e99aa6c_a56a_11ea_b562_acde48001122row0_col10\" class=\"data row0 col10\" >0.055000</td>\n",
       "                        <td id=\"T_4e99aa6c_a56a_11ea_b562_acde48001122row0_col11\" class=\"data row0 col11\" >0.078220</td>\n",
       "            </tr>\n",
       "            <tr>\n",
       "                        <th id=\"T_4e99aa6c_a56a_11ea_b562_acde48001122level0_row1\" class=\"row_heading level0 row1\" >Bahrain</th>\n",
       "                        <td id=\"T_4e99aa6c_a56a_11ea_b562_acde48001122row1_col0\" class=\"data row1 col0\" >1.323760</td>\n",
       "                        <td id=\"T_4e99aa6c_a56a_11ea_b562_acde48001122row1_col1\" class=\"data row1 col1\" >1.488412</td>\n",
       "                        <td id=\"T_4e99aa6c_a56a_11ea_b562_acde48001122row1_col2\" class=\"data row1 col2\" >0.454920</td>\n",
       "                        <td id=\"T_4e99aa6c_a56a_11ea_b562_acde48001122row1_col3\" class=\"data row1 col3\" >0.594000</td>\n",
       "                        <td id=\"T_4e99aa6c_a56a_11ea_b562_acde48001122row1_col4\" class=\"data row1 col4\" >0.653133</td>\n",
       "                        <td id=\"T_4e99aa6c_a56a_11ea_b562_acde48001122row1_col5\" class=\"data row1 col5\" >0.871000</td>\n",
       "                        <td id=\"T_4e99aa6c_a56a_11ea_b562_acde48001122row1_col6\" class=\"data row1 col6\" >0.943970</td>\n",
       "                        <td id=\"T_4e99aa6c_a56a_11ea_b562_acde48001122row1_col7\" class=\"data row1 col7\" >1.368000</td>\n",
       "                        <td id=\"T_4e99aa6c_a56a_11ea_b562_acde48001122row1_col8\" class=\"data row1 col8\" >0.110000</td>\n",
       "                        <td id=\"T_4e99aa6c_a56a_11ea_b562_acde48001122row1_col9\" class=\"data row1 col9\" >0.306000</td>\n",
       "                        <td id=\"T_4e99aa6c_a56a_11ea_b562_acde48001122row1_col10\" class=\"data row1 col10\" >0.171470</td>\n",
       "                        <td id=\"T_4e99aa6c_a56a_11ea_b562_acde48001122row1_col11\" class=\"data row1 col11\" >0.255000</td>\n",
       "            </tr>\n",
       "            <tr>\n",
       "                        <th id=\"T_4e99aa6c_a56a_11ea_b562_acde48001122level0_row2\" class=\"row_heading level0 row2\" >Egypt</th>\n",
       "                        <td id=\"T_4e99aa6c_a56a_11ea_b562_acde48001122row2_col0\" class=\"data row2 col0\" >0.881800</td>\n",
       "                        <td id=\"T_4e99aa6c_a56a_11ea_b562_acde48001122row2_col1\" class=\"data row2 col1\" >0.989702</td>\n",
       "                        <td id=\"T_4e99aa6c_a56a_11ea_b562_acde48001122row2_col2\" class=\"data row2 col2\" >0.172880</td>\n",
       "                        <td id=\"T_4e99aa6c_a56a_11ea_b562_acde48001122row2_col3\" class=\"data row2 col3\" >0.312000</td>\n",
       "                        <td id=\"T_4e99aa6c_a56a_11ea_b562_acde48001122row2_col4\" class=\"data row2 col4\" >0.520187</td>\n",
       "                        <td id=\"T_4e99aa6c_a56a_11ea_b562_acde48001122row2_col5\" class=\"data row2 col5\" >0.644000</td>\n",
       "                        <td id=\"T_4e99aa6c_a56a_11ea_b562_acde48001122row2_col6\" class=\"data row2 col6\" >0.498130</td>\n",
       "                        <td id=\"T_4e99aa6c_a56a_11ea_b562_acde48001122row2_col7\" class=\"data row2 col7\" >1.039000</td>\n",
       "                        <td id=\"T_4e99aa6c_a56a_11ea_b562_acde48001122row2_col8\" class=\"data row2 col8\" >0.063240</td>\n",
       "                        <td id=\"T_4e99aa6c_a56a_11ea_b562_acde48001122row2_col9\" class=\"data row2 col9\" >0.114381</td>\n",
       "                        <td id=\"T_4e99aa6c_a56a_11ea_b562_acde48001122row2_col10\" class=\"data row2 col10\" >0.076000</td>\n",
       "                        <td id=\"T_4e99aa6c_a56a_11ea_b562_acde48001122row2_col11\" class=\"data row2 col11\" >0.128631</td>\n",
       "            </tr>\n",
       "            <tr>\n",
       "                        <th id=\"T_4e99aa6c_a56a_11ea_b562_acde48001122level0_row3\" class=\"row_heading level0 row3\" >Iran</th>\n",
       "                        <td id=\"T_4e99aa6c_a56a_11ea_b562_acde48001122row3_col0\" class=\"data row3 col0\" >1.008800</td>\n",
       "                        <td id=\"T_4e99aa6c_a56a_11ea_b562_acde48001122row3_col1\" class=\"data row3 col1\" >1.156873</td>\n",
       "                        <td id=\"T_4e99aa6c_a56a_11ea_b562_acde48001122row3_col2\" class=\"data row3 col2\" >0.225440</td>\n",
       "                        <td id=\"T_4e99aa6c_a56a_11ea_b562_acde48001122row3_col3\" class=\"data row3 col3\" >0.459000</td>\n",
       "                        <td id=\"T_4e99aa6c_a56a_11ea_b562_acde48001122row3_col4\" class=\"data row3 col4\" >0.639333</td>\n",
       "                        <td id=\"T_4e99aa6c_a56a_11ea_b562_acde48001122row3_col5\" class=\"data row3 col5\" >0.785000</td>\n",
       "                        <td id=\"T_4e99aa6c_a56a_11ea_b562_acde48001122row3_col6\" class=\"data row3 col6\" >0.388570</td>\n",
       "                        <td id=\"T_4e99aa6c_a56a_11ea_b562_acde48001122row3_col7\" class=\"data row3 col7\" >0.842000</td>\n",
       "                        <td id=\"T_4e99aa6c_a56a_11ea_b562_acde48001122row3_col8\" class=\"data row3 col8\" >0.048761</td>\n",
       "                        <td id=\"T_4e99aa6c_a56a_11ea_b562_acde48001122row3_col9\" class=\"data row3 col9\" >0.129000</td>\n",
       "                        <td id=\"T_4e99aa6c_a56a_11ea_b562_acde48001122row3_col10\" class=\"data row3 col10\" >0.270000</td>\n",
       "                        <td id=\"T_4e99aa6c_a56a_11ea_b562_acde48001122row3_col11\" class=\"data row3 col11\" >0.387243</td>\n",
       "            </tr>\n",
       "            <tr>\n",
       "                        <th id=\"T_4e99aa6c_a56a_11ea_b562_acde48001122level0_row4\" class=\"row_heading level0 row4\" >Iraq</th>\n",
       "                        <td id=\"T_4e99aa6c_a56a_11ea_b562_acde48001122row4_col0\" class=\"data row4 col0\" >0.985490</td>\n",
       "                        <td id=\"T_4e99aa6c_a56a_11ea_b562_acde48001122row4_col1\" class=\"data row4 col1\" >1.102710</td>\n",
       "                        <td id=\"T_4e99aa6c_a56a_11ea_b562_acde48001122row4_col2\" class=\"data row4 col2\" >0.000000</td>\n",
       "                        <td id=\"T_4e99aa6c_a56a_11ea_b562_acde48001122row4_col3\" class=\"data row4 col3\" >0.304000</td>\n",
       "                        <td id=\"T_4e99aa6c_a56a_11ea_b562_acde48001122row4_col4\" class=\"data row4 col4\" >0.501180</td>\n",
       "                        <td id=\"T_4e99aa6c_a56a_11ea_b562_acde48001122row4_col5\" class=\"data row4 col5\" >0.602370</td>\n",
       "                        <td id=\"T_4e99aa6c_a56a_11ea_b562_acde48001122row4_col6\" class=\"data row4 col6\" >0.592050</td>\n",
       "                        <td id=\"T_4e99aa6c_a56a_11ea_b562_acde48001122row4_col7\" class=\"data row4 col7\" >0.980000</td>\n",
       "                        <td id=\"T_4e99aa6c_a56a_11ea_b562_acde48001122row4_col8\" class=\"data row4 col8\" >0.089000</td>\n",
       "                        <td id=\"T_4e99aa6c_a56a_11ea_b562_acde48001122row4_col9\" class=\"data row4 col9\" >0.137880</td>\n",
       "                        <td id=\"T_4e99aa6c_a56a_11ea_b562_acde48001122row4_col10\" class=\"data row4 col10\" >0.148000</td>\n",
       "                        <td id=\"T_4e99aa6c_a56a_11ea_b562_acde48001122row4_col11\" class=\"data row4 col11\" >0.199637</td>\n",
       "            </tr>\n",
       "            <tr>\n",
       "                        <th id=\"T_4e99aa6c_a56a_11ea_b562_acde48001122level0_row5\" class=\"row_heading level0 row5\" >Israel</th>\n",
       "                        <td id=\"T_4e99aa6c_a56a_11ea_b562_acde48001122row5_col0\" class=\"data row5 col0\" >1.228570</td>\n",
       "                        <td id=\"T_4e99aa6c_a56a_11ea_b562_acde48001122row5_col1\" class=\"data row5 col1\" >1.375382</td>\n",
       "                        <td id=\"T_4e99aa6c_a56a_11ea_b562_acde48001122row5_col2\" class=\"data row5 col2\" >0.364320</td>\n",
       "                        <td id=\"T_4e99aa6c_a56a_11ea_b562_acde48001122row5_col3\" class=\"data row5 col3\" >0.533000</td>\n",
       "                        <td id=\"T_4e99aa6c_a56a_11ea_b562_acde48001122row5_col4\" class=\"data row5 col4\" >0.838404</td>\n",
       "                        <td id=\"T_4e99aa6c_a56a_11ea_b562_acde48001122row5_col5\" class=\"data row5 col5\" >1.029000</td>\n",
       "                        <td id=\"T_4e99aa6c_a56a_11ea_b562_acde48001122row5_col6\" class=\"data row5 col6\" >0.995370</td>\n",
       "                        <td id=\"T_4e99aa6c_a56a_11ea_b562_acde48001122row5_col7\" class=\"data row5 col7\" >1.559000</td>\n",
       "                        <td id=\"T_4e99aa6c_a56a_11ea_b562_acde48001122row5_col8\" class=\"data row5 col8\" >0.077850</td>\n",
       "                        <td id=\"T_4e99aa6c_a56a_11ea_b562_acde48001122row5_col9\" class=\"data row5 col9\" >0.272000</td>\n",
       "                        <td id=\"T_4e99aa6c_a56a_11ea_b562_acde48001122row5_col10\" class=\"data row5 col10\" >0.261000</td>\n",
       "                        <td id=\"T_4e99aa6c_a56a_11ea_b562_acde48001122row5_col11\" class=\"data row5 col11\" >0.354000</td>\n",
       "            </tr>\n",
       "            <tr>\n",
       "                        <th id=\"T_4e99aa6c_a56a_11ea_b562_acde48001122level0_row6\" class=\"row_heading level0 row6\" >Jordan</th>\n",
       "                        <td id=\"T_4e99aa6c_a56a_11ea_b562_acde48001122row6_col0\" class=\"data row6 col0\" >0.822000</td>\n",
       "                        <td id=\"T_4e99aa6c_a56a_11ea_b562_acde48001122row6_col1\" class=\"data row6 col1\" >0.996730</td>\n",
       "                        <td id=\"T_4e99aa6c_a56a_11ea_b562_acde48001122row6_col2\" class=\"data row6 col2\" >0.360230</td>\n",
       "                        <td id=\"T_4e99aa6c_a56a_11ea_b562_acde48001122row6_col3\" class=\"data row6 col3\" >0.468000</td>\n",
       "                        <td id=\"T_4e99aa6c_a56a_11ea_b562_acde48001122row6_col4\" class=\"data row6 col4\" >0.604590</td>\n",
       "                        <td id=\"T_4e99aa6c_a56a_11ea_b562_acde48001122row6_col5\" class=\"data row6 col5\" >0.815000</td>\n",
       "                        <td id=\"T_4e99aa6c_a56a_11ea_b562_acde48001122row6_col6\" class=\"data row6 col6\" >0.862160</td>\n",
       "                        <td id=\"T_4e99aa6c_a56a_11ea_b562_acde48001122row6_col7\" class=\"data row6 col7\" >1.265000</td>\n",
       "                        <td id=\"T_4e99aa6c_a56a_11ea_b562_acde48001122row6_col8\" class=\"data row6 col8\" >0.119803</td>\n",
       "                        <td id=\"T_4e99aa6c_a56a_11ea_b562_acde48001122row6_col9\" class=\"data row6 col9\" >0.142930</td>\n",
       "                        <td id=\"T_4e99aa6c_a56a_11ea_b562_acde48001122row6_col10\" class=\"data row6 col10\" >0.110000</td>\n",
       "                        <td id=\"T_4e99aa6c_a56a_11ea_b562_acde48001122row6_col11\" class=\"data row6 col11\" >0.172170</td>\n",
       "            </tr>\n",
       "            <tr>\n",
       "                        <th id=\"T_4e99aa6c_a56a_11ea_b562_acde48001122level0_row7\" class=\"row_heading level0 row7\" >Kuwait</th>\n",
       "                        <td id=\"T_4e99aa6c_a56a_11ea_b562_acde48001122row7_col0\" class=\"data row7 col0\" >1.474000</td>\n",
       "                        <td id=\"T_4e99aa6c_a56a_11ea_b562_acde48001122row7_col1\" class=\"data row7 col1\" >1.632952</td>\n",
       "                        <td id=\"T_4e99aa6c_a56a_11ea_b562_acde48001122row7_col2\" class=\"data row7 col2\" >0.431660</td>\n",
       "                        <td id=\"T_4e99aa6c_a56a_11ea_b562_acde48001122row7_col3\" class=\"data row7 col3\" >0.554990</td>\n",
       "                        <td id=\"T_4e99aa6c_a56a_11ea_b562_acde48001122row7_col4\" class=\"data row7 col4\" >0.632106</td>\n",
       "                        <td id=\"T_4e99aa6c_a56a_11ea_b562_acde48001122row7_col5\" class=\"data row7 col5\" >0.808000</td>\n",
       "                        <td id=\"T_4e99aa6c_a56a_11ea_b562_acde48001122row7_col6\" class=\"data row7 col6\" >0.877580</td>\n",
       "                        <td id=\"T_4e99aa6c_a56a_11ea_b562_acde48001122row7_col7\" class=\"data row7 col7\" >1.319000</td>\n",
       "                        <td id=\"T_4e99aa6c_a56a_11ea_b562_acde48001122row7_col8\" class=\"data row7 col8\" >0.097000</td>\n",
       "                        <td id=\"T_4e99aa6c_a56a_11ea_b562_acde48001122row7_col9\" class=\"data row7 col9\" >0.256090</td>\n",
       "                        <td id=\"T_4e99aa6c_a56a_11ea_b562_acde48001122row7_col10\" class=\"data row7 col10\" >0.142000</td>\n",
       "                        <td id=\"T_4e99aa6c_a56a_11ea_b562_acde48001122row7_col11\" class=\"data row7 col11\" >0.228290</td>\n",
       "            </tr>\n",
       "            <tr>\n",
       "                        <th id=\"T_4e99aa6c_a56a_11ea_b562_acde48001122level0_row8\" class=\"row_heading level0 row8\" >Lebanon</th>\n",
       "                        <td id=\"T_4e99aa6c_a56a_11ea_b562_acde48001122row8_col0\" class=\"data row8 col0\" >0.965000</td>\n",
       "                        <td id=\"T_4e99aa6c_a56a_11ea_b562_acde48001122row8_col1\" class=\"data row8 col1\" >1.122680</td>\n",
       "                        <td id=\"T_4e99aa6c_a56a_11ea_b562_acde48001122row8_col2\" class=\"data row8 col2\" >0.216000</td>\n",
       "                        <td id=\"T_4e99aa6c_a56a_11ea_b562_acde48001122row8_col3\" class=\"data row8 col3\" >0.503000</td>\n",
       "                        <td id=\"T_4e99aa6c_a56a_11ea_b562_acde48001122row8_col4\" class=\"data row8 col4\" >0.735081</td>\n",
       "                        <td id=\"T_4e99aa6c_a56a_11ea_b562_acde48001122row8_col5\" class=\"data row8 col5\" >0.839470</td>\n",
       "                        <td id=\"T_4e99aa6c_a56a_11ea_b562_acde48001122row8_col6\" class=\"data row8 col6\" >0.641840</td>\n",
       "                        <td id=\"T_4e99aa6c_a56a_11ea_b562_acde48001122row8_col7\" class=\"data row8 col7\" >1.224000</td>\n",
       "                        <td id=\"T_4e99aa6c_a56a_11ea_b562_acde48001122row8_col8\" class=\"data row8 col8\" >0.027000</td>\n",
       "                        <td id=\"T_4e99aa6c_a56a_11ea_b562_acde48001122row8_col9\" class=\"data row8 col9\" >0.136000</td>\n",
       "                        <td id=\"T_4e99aa6c_a56a_11ea_b562_acde48001122row8_col10\" class=\"data row8 col10\" >0.166000</td>\n",
       "                        <td id=\"T_4e99aa6c_a56a_11ea_b562_acde48001122row8_col11\" class=\"data row8 col11\" >0.264451</td>\n",
       "            </tr>\n",
       "            <tr>\n",
       "                        <th id=\"T_4e99aa6c_a56a_11ea_b562_acde48001122level0_row9\" class=\"row_heading level0 row9\" >Libya</th>\n",
       "                        <td id=\"T_4e99aa6c_a56a_11ea_b562_acde48001122row9_col0\" class=\"data row9 col0\" >0.985000</td>\n",
       "                        <td id=\"T_4e99aa6c_a56a_11ea_b562_acde48001122row9_col1\" class=\"data row9 col1\" >1.131450</td>\n",
       "                        <td id=\"T_4e99aa6c_a56a_11ea_b562_acde48001122row9_col2\" class=\"data row9 col2\" >0.406720</td>\n",
       "                        <td id=\"T_4e99aa6c_a56a_11ea_b562_acde48001122row9_col3\" class=\"data row9 col3\" >0.496000</td>\n",
       "                        <td id=\"T_4e99aa6c_a56a_11ea_b562_acde48001122row9_col4\" class=\"data row9 col4\" >0.520169</td>\n",
       "                        <td id=\"T_4e99aa6c_a56a_11ea_b562_acde48001122row9_col5\" class=\"data row9 col5\" >0.703800</td>\n",
       "                        <td id=\"T_4e99aa6c_a56a_11ea_b562_acde48001122row9_col6\" class=\"data row9 col6\" >0.950760</td>\n",
       "                        <td id=\"T_4e99aa6c_a56a_11ea_b562_acde48001122row9_col7\" class=\"data row9 col7\" >1.357564</td>\n",
       "                        <td id=\"T_4e99aa6c_a56a_11ea_b562_acde48001122row9_col8\" class=\"data row9 col8\" >0.092610</td>\n",
       "                        <td id=\"T_4e99aa6c_a56a_11ea_b562_acde48001122row9_col9\" class=\"data row9 col9\" >0.152000</td>\n",
       "                        <td id=\"T_4e99aa6c_a56a_11ea_b562_acde48001122row9_col10\" class=\"data row9 col10\" >0.116000</td>\n",
       "                        <td id=\"T_4e99aa6c_a56a_11ea_b562_acde48001122row9_col11\" class=\"data row9 col11\" >0.182950</td>\n",
       "            </tr>\n",
       "            <tr>\n",
       "                        <th id=\"T_4e99aa6c_a56a_11ea_b562_acde48001122level0_row10\" class=\"row_heading level0 row10\" >Morocco</th>\n",
       "                        <td id=\"T_4e99aa6c_a56a_11ea_b562_acde48001122row10_col0\" class=\"data row10 col0\" >0.734790</td>\n",
       "                        <td id=\"T_4e99aa6c_a56a_11ea_b562_acde48001122row10_col1\" class=\"data row10 col1\" >0.878115</td>\n",
       "                        <td id=\"T_4e99aa6c_a56a_11ea_b562_acde48001122row10_col2\" class=\"data row10 col2\" >0.256460</td>\n",
       "                        <td id=\"T_4e99aa6c_a56a_11ea_b562_acde48001122row10_col3\" class=\"data row10 col3\" >0.460000</td>\n",
       "                        <td id=\"T_4e99aa6c_a56a_11ea_b562_acde48001122row10_col4\" class=\"data row10 col4\" >0.594710</td>\n",
       "                        <td id=\"T_4e99aa6c_a56a_11ea_b562_acde48001122row10_col5\" class=\"data row10 col5\" >0.782000</td>\n",
       "                        <td id=\"T_4e99aa6c_a56a_11ea_b562_acde48001122row10_col6\" class=\"data row10 col6\" >0.385950</td>\n",
       "                        <td id=\"T_4e99aa6c_a56a_11ea_b562_acde48001122row10_col7\" class=\"data row10 col7\" >0.797000</td>\n",
       "                        <td id=\"T_4e99aa6c_a56a_11ea_b562_acde48001122row10_col8\" class=\"data row10 col8\" >0.074000</td>\n",
       "                        <td id=\"T_4e99aa6c_a56a_11ea_b562_acde48001122row10_col9\" class=\"data row10 col9\" >0.087763</td>\n",
       "                        <td id=\"T_4e99aa6c_a56a_11ea_b562_acde48001122row10_col10\" class=\"data row10 col10\" >0.026000</td>\n",
       "                        <td id=\"T_4e99aa6c_a56a_11ea_b562_acde48001122row10_col11\" class=\"data row10 col11\" >0.071720</td>\n",
       "            </tr>\n",
       "            <tr>\n",
       "                        <th id=\"T_4e99aa6c_a56a_11ea_b562_acde48001122level0_row11\" class=\"row_heading level0 row11\" >Oman</th>\n",
       "                        <td id=\"T_4e99aa6c_a56a_11ea_b562_acde48001122row11_col0\" class=\"data row11 col0\" >1.360110</td>\n",
       "                        <td id=\"T_4e99aa6c_a56a_11ea_b562_acde48001122row11_col1\" class=\"data row11 col1\" >1.360110</td>\n",
       "                        <td id=\"T_4e99aa6c_a56a_11ea_b562_acde48001122row11_col2\" class=\"data row11 col2\" >0.632740</td>\n",
       "                        <td id=\"T_4e99aa6c_a56a_11ea_b562_acde48001122row11_col3\" class=\"data row11 col3\" >0.632740</td>\n",
       "                        <td id=\"T_4e99aa6c_a56a_11ea_b562_acde48001122row11_col4\" class=\"data row11 col4\" >0.762760</td>\n",
       "                        <td id=\"T_4e99aa6c_a56a_11ea_b562_acde48001122row11_col5\" class=\"data row11 col5\" >0.762760</td>\n",
       "                        <td id=\"T_4e99aa6c_a56a_11ea_b562_acde48001122row11_col6\" class=\"data row11 col6\" >1.081820</td>\n",
       "                        <td id=\"T_4e99aa6c_a56a_11ea_b562_acde48001122row11_col7\" class=\"data row11 col7\" >1.081820</td>\n",
       "                        <td id=\"T_4e99aa6c_a56a_11ea_b562_acde48001122row11_col8\" class=\"data row11 col8\" >0.325240</td>\n",
       "                        <td id=\"T_4e99aa6c_a56a_11ea_b562_acde48001122row11_col9\" class=\"data row11 col9\" >0.325240</td>\n",
       "                        <td id=\"T_4e99aa6c_a56a_11ea_b562_acde48001122row11_col10\" class=\"data row11 col10\" >0.215420</td>\n",
       "                        <td id=\"T_4e99aa6c_a56a_11ea_b562_acde48001122row11_col11\" class=\"data row11 col11\" >0.215420</td>\n",
       "            </tr>\n",
       "            <tr>\n",
       "                        <th id=\"T_4e99aa6c_a56a_11ea_b562_acde48001122level0_row12\" class=\"row_heading level0 row12\" >Palestinian Territories</th>\n",
       "                        <td id=\"T_4e99aa6c_a56a_11ea_b562_acde48001122row12_col0\" class=\"data row12 col0\" >0.598670</td>\n",
       "                        <td id=\"T_4e99aa6c_a56a_11ea_b562_acde48001122row12_col1\" class=\"data row12 col1\" >0.716249</td>\n",
       "                        <td id=\"T_4e99aa6c_a56a_11ea_b562_acde48001122row12_col2\" class=\"data row12 col2\" >0.177440</td>\n",
       "                        <td id=\"T_4e99aa6c_a56a_11ea_b562_acde48001122row12_col3\" class=\"data row12 col3\" >0.266000</td>\n",
       "                        <td id=\"T_4e99aa6c_a56a_11ea_b562_acde48001122row12_col4\" class=\"data row12 col4\" >0.565667</td>\n",
       "                        <td id=\"T_4e99aa6c_a56a_11ea_b562_acde48001122row12_col5\" class=\"data row12 col5\" >0.672000</td>\n",
       "                        <td id=\"T_4e99aa6c_a56a_11ea_b562_acde48001122row12_col6\" class=\"data row12 col6\" >0.716290</td>\n",
       "                        <td id=\"T_4e99aa6c_a56a_11ea_b562_acde48001122row12_col7\" class=\"data row12 col7\" >1.247000</td>\n",
       "                        <td id=\"T_4e99aa6c_a56a_11ea_b562_acde48001122row12_col8\" class=\"data row12 col8\" >0.066000</td>\n",
       "                        <td id=\"T_4e99aa6c_a56a_11ea_b562_acde48001122row12_col9\" class=\"data row12 col9\" >0.129050</td>\n",
       "                        <td id=\"T_4e99aa6c_a56a_11ea_b562_acde48001122row12_col10\" class=\"data row12 col10\" >0.086000</td>\n",
       "                        <td id=\"T_4e99aa6c_a56a_11ea_b562_acde48001122row12_col11\" class=\"data row12 col11\" >0.114173</td>\n",
       "            </tr>\n",
       "            <tr>\n",
       "                        <th id=\"T_4e99aa6c_a56a_11ea_b562_acde48001122level0_row13\" class=\"row_heading level0 row13\" >Qatar</th>\n",
       "                        <td id=\"T_4e99aa6c_a56a_11ea_b562_acde48001122row13_col0\" class=\"data row13 col0\" >1.649000</td>\n",
       "                        <td id=\"T_4e99aa6c_a56a_11ea_b562_acde48001122row13_col1\" class=\"data row13 col1\" >1.870766</td>\n",
       "                        <td id=\"T_4e99aa6c_a56a_11ea_b562_acde48001122row13_col2\" class=\"data row13 col2\" >0.555000</td>\n",
       "                        <td id=\"T_4e99aa6c_a56a_11ea_b562_acde48001122row13_col3\" class=\"data row13 col3\" >0.654000</td>\n",
       "                        <td id=\"T_4e99aa6c_a56a_11ea_b562_acde48001122row13_col4\" class=\"data row13 col4\" >0.710098</td>\n",
       "                        <td id=\"T_4e99aa6c_a56a_11ea_b562_acde48001122row13_col5\" class=\"data row13 col5\" >0.871000</td>\n",
       "                        <td id=\"T_4e99aa6c_a56a_11ea_b562_acde48001122row13_col6\" class=\"data row13 col6\" >0.879640</td>\n",
       "                        <td id=\"T_4e99aa6c_a56a_11ea_b562_acde48001122row13_col7\" class=\"data row13 col7\" >1.313000</td>\n",
       "                        <td id=\"T_4e99aa6c_a56a_11ea_b562_acde48001122row13_col8\" class=\"data row13 col8\" >0.167000</td>\n",
       "                        <td id=\"T_4e99aa6c_a56a_11ea_b562_acde48001122row13_col9\" class=\"data row13 col9\" >0.522080</td>\n",
       "                        <td id=\"T_4e99aa6c_a56a_11ea_b562_acde48001122row13_col10\" class=\"data row13 col10\" >0.220000</td>\n",
       "                        <td id=\"T_4e99aa6c_a56a_11ea_b562_acde48001122row13_col11\" class=\"data row13 col11\" >0.330474</td>\n",
       "            </tr>\n",
       "            <tr>\n",
       "                        <th id=\"T_4e99aa6c_a56a_11ea_b562_acde48001122level0_row14\" class=\"row_heading level0 row14\" >Saudi Arabia</th>\n",
       "                        <td id=\"T_4e99aa6c_a56a_11ea_b562_acde48001122row14_col0\" class=\"data row14 col0\" >1.379000</td>\n",
       "                        <td id=\"T_4e99aa6c_a56a_11ea_b562_acde48001122row14_col1\" class=\"data row14 col1\" >1.530624</td>\n",
       "                        <td id=\"T_4e99aa6c_a56a_11ea_b562_acde48001122row14_col2\" class=\"data row14 col2\" >0.310480</td>\n",
       "                        <td id=\"T_4e99aa6c_a56a_11ea_b562_acde48001122row14_col3\" class=\"data row14 col3\" >0.509000</td>\n",
       "                        <td id=\"T_4e99aa6c_a56a_11ea_b562_acde48001122row14_col4\" class=\"data row14 col4\" >0.590148</td>\n",
       "                        <td id=\"T_4e99aa6c_a56a_11ea_b562_acde48001122row14_col5\" class=\"data row14 col5\" >0.795000</td>\n",
       "                        <td id=\"T_4e99aa6c_a56a_11ea_b562_acde48001122row14_col6\" class=\"data row14 col6\" >0.848290</td>\n",
       "                        <td id=\"T_4e99aa6c_a56a_11ea_b562_acde48001122row14_col7\" class=\"data row14 col7\" >1.357000</td>\n",
       "                        <td id=\"T_4e99aa6c_a56a_11ea_b562_acde48001122row14_col8\" class=\"data row14 col8\" >0.127000</td>\n",
       "                        <td id=\"T_4e99aa6c_a56a_11ea_b562_acde48001122row14_col9\" class=\"data row14 col9\" >0.325240</td>\n",
       "                        <td id=\"T_4e99aa6c_a56a_11ea_b562_acde48001122row14_col10\" class=\"data row14 col10\" >0.080000</td>\n",
       "                        <td id=\"T_4e99aa6c_a56a_11ea_b562_acde48001122row14_col11\" class=\"data row14 col11\" >0.154570</td>\n",
       "            </tr>\n",
       "            <tr>\n",
       "                        <th id=\"T_4e99aa6c_a56a_11ea_b562_acde48001122level0_row15\" class=\"row_heading level0 row15\" >Syria</th>\n",
       "                        <td id=\"T_4e99aa6c_a56a_11ea_b562_acde48001122row15_col0\" class=\"data row15 col0\" >0.619000</td>\n",
       "                        <td id=\"T_4e99aa6c_a56a_11ea_b562_acde48001122row15_col1\" class=\"data row15 col1\" >0.777153</td>\n",
       "                        <td id=\"T_4e99aa6c_a56a_11ea_b562_acde48001122row15_col2\" class=\"data row15 col2\" >0.013000</td>\n",
       "                        <td id=\"T_4e99aa6c_a56a_11ea_b562_acde48001122row15_col3\" class=\"data row15 col3\" >0.156840</td>\n",
       "                        <td id=\"T_4e99aa6c_a56a_11ea_b562_acde48001122row15_col4\" class=\"data row15 col4\" >0.440000</td>\n",
       "                        <td id=\"T_4e99aa6c_a56a_11ea_b562_acde48001122row15_col5\" class=\"data row15 col5\" >0.721930</td>\n",
       "                        <td id=\"T_4e99aa6c_a56a_11ea_b562_acde48001122row15_col6\" class=\"data row15 col6\" >0.148660</td>\n",
       "                        <td id=\"T_4e99aa6c_a56a_11ea_b562_acde48001122row15_col7\" class=\"data row15 col7\" >0.474890</td>\n",
       "                        <td id=\"T_4e99aa6c_a56a_11ea_b562_acde48001122row15_col8\" class=\"data row15 col8\" >0.141000</td>\n",
       "                        <td id=\"T_4e99aa6c_a56a_11ea_b562_acde48001122row15_col9\" class=\"data row15 col9\" >0.189060</td>\n",
       "                        <td id=\"T_4e99aa6c_a56a_11ea_b562_acde48001122row15_col10\" class=\"data row15 col10\" >0.331000</td>\n",
       "                        <td id=\"T_4e99aa6c_a56a_11ea_b562_acde48001122row15_col11\" class=\"data row15 col11\" >0.493664</td>\n",
       "            </tr>\n",
       "            <tr>\n",
       "                        <th id=\"T_4e99aa6c_a56a_11ea_b562_acde48001122level0_row16\" class=\"row_heading level0 row16\" >Tunisia</th>\n",
       "                        <td id=\"T_4e99aa6c_a56a_11ea_b562_acde48001122row16_col0\" class=\"data row16 col0\" >0.881130</td>\n",
       "                        <td id=\"T_4e99aa6c_a56a_11ea_b562_acde48001122row16_col1\" class=\"data row16 col1\" >1.007266</td>\n",
       "                        <td id=\"T_4e99aa6c_a56a_11ea_b562_acde48001122row16_col2\" class=\"data row16 col2\" >0.167000</td>\n",
       "                        <td id=\"T_4e99aa6c_a56a_11ea_b562_acde48001122row16_col3\" class=\"data row16 col3\" >0.289681</td>\n",
       "                        <td id=\"T_4e99aa6c_a56a_11ea_b562_acde48001122row16_col4\" class=\"data row16 col4\" >0.595770</td>\n",
       "                        <td id=\"T_4e99aa6c_a56a_11ea_b562_acde48001122row16_col5\" class=\"data row16 col5\" >0.815000</td>\n",
       "                        <td id=\"T_4e99aa6c_a56a_11ea_b562_acde48001122row16_col6\" class=\"data row16 col6\" >0.431650</td>\n",
       "                        <td id=\"T_4e99aa6c_a56a_11ea_b562_acde48001122row16_col7\" class=\"data row16 col7\" >1.000000</td>\n",
       "                        <td id=\"T_4e99aa6c_a56a_11ea_b562_acde48001122row16_col8\" class=\"data row16 col8\" >0.055000</td>\n",
       "                        <td id=\"T_4e99aa6c_a56a_11ea_b562_acde48001122row16_col9\" class=\"data row16 col9\" >0.086723</td>\n",
       "                        <td id=\"T_4e99aa6c_a56a_11ea_b562_acde48001122row16_col10\" class=\"data row16 col10\" >0.039360</td>\n",
       "                        <td id=\"T_4e99aa6c_a56a_11ea_b562_acde48001122row16_col11\" class=\"data row16 col11\" >0.064310</td>\n",
       "            </tr>\n",
       "            <tr>\n",
       "                        <th id=\"T_4e99aa6c_a56a_11ea_b562_acde48001122level0_row17\" class=\"row_heading level0 row17\" >Turkey</th>\n",
       "                        <td id=\"T_4e99aa6c_a56a_11ea_b562_acde48001122row17_col0\" class=\"data row17 col0\" >1.060980</td>\n",
       "                        <td id=\"T_4e99aa6c_a56a_11ea_b562_acde48001122row17_col1\" class=\"data row17 col1\" >1.198274</td>\n",
       "                        <td id=\"T_4e99aa6c_a56a_11ea_b562_acde48001122row17_col2\" class=\"data row17 col2\" >0.195000</td>\n",
       "                        <td id=\"T_4e99aa6c_a56a_11ea_b562_acde48001122row17_col3\" class=\"data row17 col3\" >0.324000</td>\n",
       "                        <td id=\"T_4e99aa6c_a56a_11ea_b562_acde48001122row17_col4\" class=\"data row17 col4\" >0.637606</td>\n",
       "                        <td id=\"T_4e99aa6c_a56a_11ea_b562_acde48001122row17_col5\" class=\"data row17 col5\" >0.808000</td>\n",
       "                        <td id=\"T_4e99aa6c_a56a_11ea_b562_acde48001122row17_col6\" class=\"data row17 col6\" >0.877170</td>\n",
       "                        <td id=\"T_4e99aa6c_a56a_11ea_b562_acde48001122row17_col7\" class=\"data row17 col7\" >1.380000</td>\n",
       "                        <td id=\"T_4e99aa6c_a56a_11ea_b562_acde48001122row17_col8\" class=\"data row17 col8\" >0.099672</td>\n",
       "                        <td id=\"T_4e99aa6c_a56a_11ea_b562_acde48001122row17_col9\" class=\"data row17 col9\" >0.157460</td>\n",
       "                        <td id=\"T_4e99aa6c_a56a_11ea_b562_acde48001122row17_col10\" class=\"data row17 col10\" >0.046693</td>\n",
       "                        <td id=\"T_4e99aa6c_a56a_11ea_b562_acde48001122row17_col11\" class=\"data row17 col11\" >0.122530</td>\n",
       "            </tr>\n",
       "            <tr>\n",
       "                        <th id=\"T_4e99aa6c_a56a_11ea_b562_acde48001122level0_row18\" class=\"row_heading level0 row18\" >United Arab Emirates</th>\n",
       "                        <td id=\"T_4e99aa6c_a56a_11ea_b562_acde48001122row18_col0\" class=\"data row18 col0\" >1.427270</td>\n",
       "                        <td id=\"T_4e99aa6c_a56a_11ea_b562_acde48001122row18_col1\" class=\"data row18 col1\" >2.096000</td>\n",
       "                        <td id=\"T_4e99aa6c_a56a_11ea_b562_acde48001122row18_col2\" class=\"data row18 col2\" >0.284000</td>\n",
       "                        <td id=\"T_4e99aa6c_a56a_11ea_b562_acde48001122row18_col3\" class=\"data row18 col3\" >0.641570</td>\n",
       "                        <td id=\"T_4e99aa6c_a56a_11ea_b562_acde48001122row18_col4\" class=\"data row18 col4\" >0.670000</td>\n",
       "                        <td id=\"T_4e99aa6c_a56a_11ea_b562_acde48001122row18_col5\" class=\"data row18 col5\" >0.825000</td>\n",
       "                        <td id=\"T_4e99aa6c_a56a_11ea_b562_acde48001122row18_col6\" class=\"data row18 col6\" >0.776000</td>\n",
       "                        <td id=\"T_4e99aa6c_a56a_11ea_b562_acde48001122row18_col7\" class=\"data row18 col7\" >1.310000</td>\n",
       "                        <td id=\"T_4e99aa6c_a56a_11ea_b562_acde48001122row18_col8\" class=\"data row18 col8\" >0.182000</td>\n",
       "                        <td id=\"T_4e99aa6c_a56a_11ea_b562_acde48001122row18_col9\" class=\"data row18 col9\" >0.385830</td>\n",
       "                        <td id=\"T_4e99aa6c_a56a_11ea_b562_acde48001122row18_col10\" class=\"data row18 col10\" >0.186000</td>\n",
       "                        <td id=\"T_4e99aa6c_a56a_11ea_b562_acde48001122row18_col11\" class=\"data row18 col11\" >0.360942</td>\n",
       "            </tr>\n",
       "            <tr>\n",
       "                        <th id=\"T_4e99aa6c_a56a_11ea_b562_acde48001122level0_row19\" class=\"row_heading level0 row19\" >Yemen</th>\n",
       "                        <td id=\"T_4e99aa6c_a56a_11ea_b562_acde48001122row19_col0\" class=\"data row19 col0\" >0.287000</td>\n",
       "                        <td id=\"T_4e99aa6c_a56a_11ea_b562_acde48001122row19_col1\" class=\"data row19 col1\" >0.591683</td>\n",
       "                        <td id=\"T_4e99aa6c_a56a_11ea_b562_acde48001122row19_col2\" class=\"data row19 col2\" >0.143000</td>\n",
       "                        <td id=\"T_4e99aa6c_a56a_11ea_b562_acde48001122row19_col3\" class=\"data row19 col3\" >0.355710</td>\n",
       "                        <td id=\"T_4e99aa6c_a56a_11ea_b562_acde48001122row19_col4\" class=\"data row19 col4\" >0.310081</td>\n",
       "                        <td id=\"T_4e99aa6c_a56a_11ea_b562_acde48001122row19_col5\" class=\"data row19 col5\" >0.463000</td>\n",
       "                        <td id=\"T_4e99aa6c_a56a_11ea_b562_acde48001122row19_col6\" class=\"data row19 col6\" >0.474930</td>\n",
       "                        <td id=\"T_4e99aa6c_a56a_11ea_b562_acde48001122row19_col7\" class=\"data row19 col7\" >1.163000</td>\n",
       "                        <td id=\"T_4e99aa6c_a56a_11ea_b562_acde48001122row19_col8\" class=\"data row19 col8\" >0.056767</td>\n",
       "                        <td id=\"T_4e99aa6c_a56a_11ea_b562_acde48001122row19_col9\" class=\"data row19 col9\" >0.078540</td>\n",
       "                        <td id=\"T_4e99aa6c_a56a_11ea_b562_acde48001122row19_col10\" class=\"data row19 col10\" >0.083000</td>\n",
       "                        <td id=\"T_4e99aa6c_a56a_11ea_b562_acde48001122row19_col11\" class=\"data row19 col11\" >0.108000</td>\n",
       "            </tr>\n",
       "    </tbody></table>"
      ],
      "text/plain": [
       "<pandas.io.formats.style.Styler at 0x11570ef10>"
      ]
     },
     "execution_count": 55,
     "metadata": {},
     "output_type": "execute_result"
    }
   ],
   "source": [
    "grouped_me_na2 = me_na_region.groupby(['Country']) #Group data by country\n",
    "grouped_me_na2 = grouped_me_na2.agg({'Economy (GDP per Capita)' : [np.min, np.max], 'Freedom' : [np.min, np.max], \\\n",
    "                                     'Health (Life Expectancy)' : [np.min, np.max], 'Family' : [np.min, np.max],\n",
    "                                     'Trust (Government Corruption)' : [np.min, np.max], 'Generosity' : [np.min, np.max]})\n",
    "grouped_me_na2.style.\\\n",
    "    apply(highlight_min)"
   ]
  },
  {
   "cell_type": "markdown",
   "metadata": {},
   "source": [
    "In the table above it is visible that indices had almost the lowest explanation of the Happiness Score for Yemen and Syria; thus, it is possible that something else was playing a role in a big difference in Happiness Scores of those countries compared to other countries from the same region."
   ]
  },
  {
   "cell_type": "markdown",
   "metadata": {},
   "source": [
    "## 2.3. Do happier countries also have higher GDP?"
   ]
  },
  {
   "cell_type": "markdown",
   "metadata": {},
   "source": [
    "It might also be the case that happier countries in general have higher GDP. However, the current data doesn't provide such an insight; to have an answer to the question, we will need to merge another dataset.\n",
    "For this purpose, we will use the file that contains information on the demographic data, including GDP per capita (https://www.kaggle.com/fernandol/countries-of-the-world). "
   ]
  },
  {
   "cell_type": "code",
   "execution_count": 58,
   "metadata": {},
   "outputs": [],
   "source": [
    "demographic_data = pd.read_csv('Demographic_data.csv') #Open the file with the data first\n",
    "dataf_copy = dataf.copy() \n",
    "#Make the copy of the clean data file to ensure that nobody is running into any issues with that"
   ]
  },
  {
   "cell_type": "code",
   "execution_count": 59,
   "metadata": {},
   "outputs": [
    {
     "name": "stdout",
     "output_type": "stream",
     "text": [
      "<class 'pandas.core.frame.DataFrame'>\n",
      "RangeIndex: 227 entries, 0 to 226\n",
      "Data columns (total 20 columns):\n",
      " #   Column                              Non-Null Count  Dtype  \n",
      "---  ------                              --------------  -----  \n",
      " 0   Country                             227 non-null    object \n",
      " 1   Region                              227 non-null    object \n",
      " 2   Population                          227 non-null    int64  \n",
      " 3   Area (sq. mi.)                      227 non-null    int64  \n",
      " 4   Pop. Density (per sq. mi.)          227 non-null    object \n",
      " 5   Coastline (coast/area ratio)        227 non-null    object \n",
      " 6   Net migration                       224 non-null    object \n",
      " 7   Infant mortality (per 1000 births)  224 non-null    object \n",
      " 8   GDP ($ per capita)                  226 non-null    float64\n",
      " 9   Literacy (%)                        209 non-null    object \n",
      " 10  Phones (per 1000)                   223 non-null    object \n",
      " 11  Arable (%)                          225 non-null    object \n",
      " 12  Crops (%)                           225 non-null    object \n",
      " 13  Other (%)                           225 non-null    object \n",
      " 14  Climate                             205 non-null    object \n",
      " 15  Birthrate                           224 non-null    object \n",
      " 16  Deathrate                           223 non-null    object \n",
      " 17  Agriculture                         212 non-null    object \n",
      " 18  Industry                            211 non-null    object \n",
      " 19  Service                             212 non-null    object \n",
      "dtypes: float64(1), int64(2), object(17)\n",
      "memory usage: 35.6+ KB\n"
     ]
    },
    {
     "data": {
      "text/html": [
       "<div>\n",
       "<style scoped>\n",
       "    .dataframe tbody tr th:only-of-type {\n",
       "        vertical-align: middle;\n",
       "    }\n",
       "\n",
       "    .dataframe tbody tr th {\n",
       "        vertical-align: top;\n",
       "    }\n",
       "\n",
       "    .dataframe thead th {\n",
       "        text-align: right;\n",
       "    }\n",
       "</style>\n",
       "<table border=\"1\" class=\"dataframe\">\n",
       "  <thead>\n",
       "    <tr style=\"text-align: right;\">\n",
       "      <th></th>\n",
       "      <th>Country</th>\n",
       "      <th>Region</th>\n",
       "      <th>Population</th>\n",
       "      <th>Area (sq. mi.)</th>\n",
       "      <th>Pop. Density (per sq. mi.)</th>\n",
       "      <th>Coastline (coast/area ratio)</th>\n",
       "      <th>Net migration</th>\n",
       "      <th>Infant mortality (per 1000 births)</th>\n",
       "      <th>GDP ($ per capita)</th>\n",
       "      <th>Literacy (%)</th>\n",
       "      <th>Phones (per 1000)</th>\n",
       "      <th>Arable (%)</th>\n",
       "      <th>Crops (%)</th>\n",
       "      <th>Other (%)</th>\n",
       "      <th>Climate</th>\n",
       "      <th>Birthrate</th>\n",
       "      <th>Deathrate</th>\n",
       "      <th>Agriculture</th>\n",
       "      <th>Industry</th>\n",
       "      <th>Service</th>\n",
       "    </tr>\n",
       "  </thead>\n",
       "  <tbody>\n",
       "    <tr>\n",
       "      <th>0</th>\n",
       "      <td>Afghanistan</td>\n",
       "      <td>ASIA (EX. NEAR EAST)</td>\n",
       "      <td>31056997</td>\n",
       "      <td>647500</td>\n",
       "      <td>48,0</td>\n",
       "      <td>0,00</td>\n",
       "      <td>23,06</td>\n",
       "      <td>163,07</td>\n",
       "      <td>700.0</td>\n",
       "      <td>36,0</td>\n",
       "      <td>3,2</td>\n",
       "      <td>12,13</td>\n",
       "      <td>0,22</td>\n",
       "      <td>87,65</td>\n",
       "      <td>1</td>\n",
       "      <td>46,6</td>\n",
       "      <td>20,34</td>\n",
       "      <td>0,38</td>\n",
       "      <td>0,24</td>\n",
       "      <td>0,38</td>\n",
       "    </tr>\n",
       "    <tr>\n",
       "      <th>1</th>\n",
       "      <td>Albania</td>\n",
       "      <td>EASTERN EUROPE</td>\n",
       "      <td>3581655</td>\n",
       "      <td>28748</td>\n",
       "      <td>124,6</td>\n",
       "      <td>1,26</td>\n",
       "      <td>-4,93</td>\n",
       "      <td>21,52</td>\n",
       "      <td>4500.0</td>\n",
       "      <td>86,5</td>\n",
       "      <td>71,2</td>\n",
       "      <td>21,09</td>\n",
       "      <td>4,42</td>\n",
       "      <td>74,49</td>\n",
       "      <td>3</td>\n",
       "      <td>15,11</td>\n",
       "      <td>5,22</td>\n",
       "      <td>0,232</td>\n",
       "      <td>0,188</td>\n",
       "      <td>0,579</td>\n",
       "    </tr>\n",
       "    <tr>\n",
       "      <th>2</th>\n",
       "      <td>Algeria</td>\n",
       "      <td>NORTHERN AFRICA</td>\n",
       "      <td>32930091</td>\n",
       "      <td>2381740</td>\n",
       "      <td>13,8</td>\n",
       "      <td>0,04</td>\n",
       "      <td>-0,39</td>\n",
       "      <td>31</td>\n",
       "      <td>6000.0</td>\n",
       "      <td>70,0</td>\n",
       "      <td>78,1</td>\n",
       "      <td>3,22</td>\n",
       "      <td>0,25</td>\n",
       "      <td>96,53</td>\n",
       "      <td>1</td>\n",
       "      <td>17,14</td>\n",
       "      <td>4,61</td>\n",
       "      <td>0,101</td>\n",
       "      <td>0,6</td>\n",
       "      <td>0,298</td>\n",
       "    </tr>\n",
       "    <tr>\n",
       "      <th>3</th>\n",
       "      <td>American Samoa</td>\n",
       "      <td>OCEANIA</td>\n",
       "      <td>57794</td>\n",
       "      <td>199</td>\n",
       "      <td>290,4</td>\n",
       "      <td>58,29</td>\n",
       "      <td>-20,71</td>\n",
       "      <td>9,27</td>\n",
       "      <td>8000.0</td>\n",
       "      <td>97,0</td>\n",
       "      <td>259,5</td>\n",
       "      <td>10</td>\n",
       "      <td>15</td>\n",
       "      <td>75</td>\n",
       "      <td>2</td>\n",
       "      <td>22,46</td>\n",
       "      <td>3,27</td>\n",
       "      <td>NaN</td>\n",
       "      <td>NaN</td>\n",
       "      <td>NaN</td>\n",
       "    </tr>\n",
       "    <tr>\n",
       "      <th>4</th>\n",
       "      <td>Andorra</td>\n",
       "      <td>WESTERN EUROPE</td>\n",
       "      <td>71201</td>\n",
       "      <td>468</td>\n",
       "      <td>152,1</td>\n",
       "      <td>0,00</td>\n",
       "      <td>6,6</td>\n",
       "      <td>4,05</td>\n",
       "      <td>19000.0</td>\n",
       "      <td>100,0</td>\n",
       "      <td>497,2</td>\n",
       "      <td>2,22</td>\n",
       "      <td>0</td>\n",
       "      <td>97,78</td>\n",
       "      <td>3</td>\n",
       "      <td>8,71</td>\n",
       "      <td>6,25</td>\n",
       "      <td>NaN</td>\n",
       "      <td>NaN</td>\n",
       "      <td>NaN</td>\n",
       "    </tr>\n",
       "  </tbody>\n",
       "</table>\n",
       "</div>"
      ],
      "text/plain": [
       "           Country                               Region  Population  \\\n",
       "0     Afghanistan         ASIA (EX. NEAR EAST)             31056997   \n",
       "1         Albania   EASTERN EUROPE                          3581655   \n",
       "2         Algeria   NORTHERN AFRICA                        32930091   \n",
       "3  American Samoa   OCEANIA                                   57794   \n",
       "4         Andorra   WESTERN EUROPE                            71201   \n",
       "\n",
       "   Area (sq. mi.) Pop. Density (per sq. mi.) Coastline (coast/area ratio)  \\\n",
       "0          647500                       48,0                         0,00   \n",
       "1           28748                      124,6                         1,26   \n",
       "2         2381740                       13,8                         0,04   \n",
       "3             199                      290,4                        58,29   \n",
       "4             468                      152,1                         0,00   \n",
       "\n",
       "  Net migration Infant mortality (per 1000 births)  GDP ($ per capita)  \\\n",
       "0         23,06                             163,07               700.0   \n",
       "1         -4,93                              21,52              4500.0   \n",
       "2         -0,39                                 31              6000.0   \n",
       "3        -20,71                               9,27              8000.0   \n",
       "4           6,6                               4,05             19000.0   \n",
       "\n",
       "  Literacy (%) Phones (per 1000) Arable (%) Crops (%) Other (%) Climate  \\\n",
       "0         36,0               3,2      12,13      0,22     87,65       1   \n",
       "1         86,5              71,2      21,09      4,42     74,49       3   \n",
       "2         70,0              78,1       3,22      0,25     96,53       1   \n",
       "3         97,0             259,5         10        15        75       2   \n",
       "4        100,0             497,2       2,22         0     97,78       3   \n",
       "\n",
       "  Birthrate Deathrate Agriculture Industry Service  \n",
       "0      46,6     20,34        0,38     0,24    0,38  \n",
       "1     15,11      5,22       0,232    0,188   0,579  \n",
       "2     17,14      4,61       0,101      0,6   0,298  \n",
       "3     22,46      3,27         NaN      NaN     NaN  \n",
       "4      8,71      6,25         NaN      NaN     NaN  "
      ]
     },
     "execution_count": 59,
     "metadata": {},
     "output_type": "execute_result"
    }
   ],
   "source": [
    "demographic_data.info() #Investigate the data to see available columns and how data is represented\n",
    "demographic_data.head()"
   ]
  },
  {
   "cell_type": "code",
   "execution_count": 60,
   "metadata": {},
   "outputs": [],
   "source": [
    "dataf_copy2017 = dataf_copy.loc[dataf_copy['Year'] == 2017] #Selecting only data from 2017"
   ]
  },
  {
   "cell_type": "code",
   "execution_count": 61,
   "metadata": {},
   "outputs": [
    {
     "data": {
      "text/plain": [
       "Index(['Country', 'Region', 'Population', 'Area (sq. mi.)',\n",
       "       'Pop. Density (per sq. mi.)', 'Coastline (coast/area ratio)',\n",
       "       'Net migration', 'Infant mortality (per 1000 births)',\n",
       "       'GDP ($ per capita)', 'Literacy (%)', 'Phones (per 1000)', 'Arable (%)',\n",
       "       'Crops (%)', 'Other (%)', 'Climate', 'Birthrate', 'Deathrate',\n",
       "       'Agriculture', 'Industry', 'Service'],\n",
       "      dtype='object')"
      ]
     },
     "execution_count": 61,
     "metadata": {},
     "output_type": "execute_result"
    }
   ],
   "source": [
    "demographic_data.keys()"
   ]
  },
  {
   "cell_type": "code",
   "execution_count": 62,
   "metadata": {},
   "outputs": [
    {
     "data": {
      "text/plain": [
       "array([['Afghanistan ', 'ASIA (EX. NEAR EAST)         ', 31056997, ...,\n",
       "        '0,38', '0,24', '0,38'],\n",
       "       ['Albania ', 'EASTERN EUROPE                     ', 3581655, ...,\n",
       "        '0,232', '0,188', '0,579'],\n",
       "       ['Algeria ', 'NORTHERN AFRICA                    ', 32930091, ...,\n",
       "        '0,101', '0,6', '0,298'],\n",
       "       ...,\n",
       "       ['Yemen ', 'NEAR EAST                          ', 21456188, ...,\n",
       "        '0,135', '0,472', '0,393'],\n",
       "       ['Zambia ', 'SUB-SAHARAN AFRICA                 ', 11502010, ...,\n",
       "        '0,22', '0,29', '0,489'],\n",
       "       ['Zimbabwe ', 'SUB-SAHARAN AFRICA                 ', 12236805,\n",
       "        ..., '0,179', '0,243', '0,579']], dtype=object)"
      ]
     },
     "execution_count": 62,
     "metadata": {},
     "output_type": "execute_result"
    }
   ],
   "source": [
    "demographic_data.values #Investigating the way values are entered"
   ]
  },
  {
   "cell_type": "markdown",
   "metadata": {},
   "source": [
    "Every country name has an additional space after it, which makes it impossible to merge two dataframes on the country. First need to remove the spaces. "
   ]
  },
  {
   "cell_type": "code",
   "execution_count": 63,
   "metadata": {},
   "outputs": [
    {
     "data": {
      "text/plain": [
       "array([['Afghanistan', 'ASIA (EX. NEAR EAST)         ', 31056997, ...,\n",
       "        '0,38', '0,24', '0,38'],\n",
       "       ['Albania', 'EASTERN EUROPE                     ', 3581655, ...,\n",
       "        '0,232', '0,188', '0,579'],\n",
       "       ['Algeria', 'NORTHERN AFRICA                    ', 32930091, ...,\n",
       "        '0,101', '0,6', '0,298'],\n",
       "       ...,\n",
       "       ['Yemen', 'NEAR EAST                          ', 21456188, ...,\n",
       "        '0,135', '0,472', '0,393'],\n",
       "       ['Zambia', 'SUB-SAHARAN AFRICA                 ', 11502010, ...,\n",
       "        '0,22', '0,29', '0,489'],\n",
       "       ['Zimbabwe', 'SUB-SAHARAN AFRICA                 ', 12236805, ...,\n",
       "        '0,179', '0,243', '0,579']], dtype=object)"
      ]
     },
     "execution_count": 63,
     "metadata": {},
     "output_type": "execute_result"
    }
   ],
   "source": [
    "demographic_data['Country'] = demographic_data['Country'].str.strip() #Removing the spaces\n",
    "demographic_data.values"
   ]
  },
  {
   "cell_type": "code",
   "execution_count": 65,
   "metadata": {},
   "outputs": [
    {
     "data": {
      "text/html": [
       "<div>\n",
       "<style scoped>\n",
       "    .dataframe tbody tr th:only-of-type {\n",
       "        vertical-align: middle;\n",
       "    }\n",
       "\n",
       "    .dataframe tbody tr th {\n",
       "        vertical-align: top;\n",
       "    }\n",
       "\n",
       "    .dataframe thead th {\n",
       "        text-align: right;\n",
       "    }\n",
       "</style>\n",
       "<table border=\"1\" class=\"dataframe\">\n",
       "  <thead>\n",
       "    <tr style=\"text-align: right;\">\n",
       "      <th></th>\n",
       "      <th>Country</th>\n",
       "      <th>Region_x</th>\n",
       "      <th>Happiness Rank</th>\n",
       "      <th>Happiness Score</th>\n",
       "      <th>Economy (GDP per Capita)</th>\n",
       "      <th>Family</th>\n",
       "      <th>Health (Life Expectancy)</th>\n",
       "      <th>Freedom</th>\n",
       "      <th>Trust (Government Corruption)</th>\n",
       "      <th>Generosity</th>\n",
       "      <th>...</th>\n",
       "      <th>Phones (per 1000)</th>\n",
       "      <th>Arable (%)</th>\n",
       "      <th>Crops (%)</th>\n",
       "      <th>Other (%)</th>\n",
       "      <th>Climate</th>\n",
       "      <th>Birthrate</th>\n",
       "      <th>Deathrate</th>\n",
       "      <th>Agriculture</th>\n",
       "      <th>Industry</th>\n",
       "      <th>Service</th>\n",
       "    </tr>\n",
       "  </thead>\n",
       "  <tbody>\n",
       "    <tr>\n",
       "      <th>0</th>\n",
       "      <td>Norway</td>\n",
       "      <td>Western Europe</td>\n",
       "      <td>1</td>\n",
       "      <td>7.537</td>\n",
       "      <td>1.616463</td>\n",
       "      <td>1.533524</td>\n",
       "      <td>0.796667</td>\n",
       "      <td>0.635423</td>\n",
       "      <td>0.315964</td>\n",
       "      <td>0.362012</td>\n",
       "      <td>...</td>\n",
       "      <td>461,7</td>\n",
       "      <td>2,87</td>\n",
       "      <td>0</td>\n",
       "      <td>97,13</td>\n",
       "      <td>3</td>\n",
       "      <td>11,46</td>\n",
       "      <td>9,4</td>\n",
       "      <td>0,021</td>\n",
       "      <td>0,415</td>\n",
       "      <td>0,564</td>\n",
       "    </tr>\n",
       "  </tbody>\n",
       "</table>\n",
       "<p>1 rows × 30 columns</p>\n",
       "</div>"
      ],
      "text/plain": [
       "  Country        Region_x  Happiness Rank  Happiness Score  \\\n",
       "0  Norway  Western Europe               1            7.537   \n",
       "\n",
       "   Economy (GDP per Capita)    Family  Health (Life Expectancy)   Freedom  \\\n",
       "0                  1.616463  1.533524                  0.796667  0.635423   \n",
       "\n",
       "   Trust (Government Corruption)  Generosity  ...  Phones (per 1000)  \\\n",
       "0                       0.315964    0.362012  ...              461,7   \n",
       "\n",
       "  Arable (%)  Crops (%)  Other (%) Climate Birthrate Deathrate Agriculture  \\\n",
       "0       2,87          0      97,13       3     11,46       9,4       0,021   \n",
       "\n",
       "   Industry Service  \n",
       "0     0,415   0,564  \n",
       "\n",
       "[1 rows x 30 columns]"
      ]
     },
     "execution_count": 65,
     "metadata": {},
     "output_type": "execute_result"
    }
   ],
   "source": [
    "full_data_2017 = dataf_copy2017.merge(demographic_data, left_on = 'Country', right_on = 'Country') \n",
    "#Merging two files on the same column - country name\n",
    "full_data_2017.head(1)"
   ]
  },
  {
   "cell_type": "markdown",
   "metadata": {},
   "source": [
    "Now we have complete data. We will build a plot to visualize relationships between Happiness Score and GDP."
   ]
  },
  {
   "cell_type": "code",
   "execution_count": 68,
   "metadata": {},
   "outputs": [
    {
     "data": {
      "image/png": "[encoded data removed]",
      "text/plain": [
       "<Figure size 432x288 with 1 Axes>"
      ]
     },
     "metadata": {
      "needs_background": "light"
     },
     "output_type": "display_data"
    }
   ],
   "source": [
    "full_data_2017.plot.scatter(x='Happiness Score', \n",
    "                            y='GDP ($ per capita)', \n",
    "                            title= \"Scatter plot between Happiness Score and GDP\");"
   ]
  },
  {
   "cell_type": "markdown",
   "metadata": {},
   "source": [
    "There seems to be a linear relationship between GDP per capita in countries with lower GDP/Happines Scores. The higher it gets, the more diverse result appears."
   ]
  },
  {
   "cell_type": "code",
   "execution_count": 69,
   "metadata": {},
   "outputs": [
    {
     "data": {
      "text/plain": [
       "(0.7423500664783038, 4.042184642128556e-26)"
      ]
     },
     "execution_count": 69,
     "metadata": {},
     "output_type": "execute_result"
    }
   ],
   "source": [
    "from scipy.stats.stats import pearsonr\n",
    "pearsonr(full_data_2017['Happiness Score'], full_data_2017['GDP ($ per capita)']) \n",
    "# Using Spearman correlation here because not sure whether the data distribution is normal or not"
   ]
  },
  {
   "cell_type": "markdown",
   "metadata": {},
   "source": [
    "The correlations above shows that GDP per capita has a high positive Spearman rank correlation, .805 in the pandas calculation and .742 using statistical package. Besides, the p value is extremely low, implying that we cannot confirm the null hypothesis about absence of the relation between variables, meaning that Happiness Score and GDP per capita are positevely related."
   ]
  },
  {
   "cell_type": "markdown",
   "metadata": {},
   "source": [
    "We might want to explore some other demographics factors that were not considered in the original dataset. For example, we can build a scatterplot of the Population density per square meter with Happiness Score."
   ]
  },
  {
   "cell_type": "code",
   "execution_count": 71,
   "metadata": {},
   "outputs": [
    {
     "data": {
      "image/png": "[encoded data removed]",
      "text/plain": [
       "<Figure size 432x288 with 1 Axes>"
      ]
     },
     "metadata": {
      "needs_background": "light"
     },
     "output_type": "display_data"
    }
   ],
   "source": [
    "full_data_2017.plot.scatter(x='Happiness Score', \n",
    "                            y='Pop. Density (per sq. mi.)', \n",
    "                            title= \"Happiness Score and Population density\");"
   ]
  },
  {
   "cell_type": "markdown",
   "metadata": {},
   "source": [
    "The graphic above shows almost linear relation of the Happiness Score to the Population density: the denser population, the smaller is Happiness Score. "
   ]
  },
  {
   "cell_type": "markdown",
   "metadata": {},
   "source": [
    "### 2.4. Which countries have more variation in happiness score between 2015 and 2019?\n"
   ]
  },
  {
   "cell_type": "code",
   "execution_count": 72,
   "metadata": {},
   "outputs": [],
   "source": [
    "# Make a copy of the dataset\n",
    "datav = dataf.copy()"
   ]
  },
  {
   "cell_type": "code",
   "execution_count": 79,
   "metadata": {},
   "outputs": [],
   "source": [
    "var_score = datav[['Country', 'Happiness Score', 'Year']] # Take just the columns needed"
   ]
  },
  {
   "cell_type": "code",
   "execution_count": 80,
   "metadata": {},
   "outputs": [],
   "source": [
    "var_country = pd.pivot_table(var_score, index='Country', values='Happiness Score', aggfunc=['max', 'min']) \n",
    "# Make a pivot table with max and min values for hapiness scores in each country"
   ]
  },
  {
   "cell_type": "code",
   "execution_count": 81,
   "metadata": {},
   "outputs": [
    {
     "data": {
      "text/html": [
       "<div>\n",
       "<style scoped>\n",
       "    .dataframe tbody tr th:only-of-type {\n",
       "        vertical-align: middle;\n",
       "    }\n",
       "\n",
       "    .dataframe tbody tr th {\n",
       "        vertical-align: top;\n",
       "    }\n",
       "\n",
       "    .dataframe thead tr th {\n",
       "        text-align: left;\n",
       "    }\n",
       "\n",
       "    .dataframe thead tr:last-of-type th {\n",
       "        text-align: right;\n",
       "    }\n",
       "</style>\n",
       "<table border=\"1\" class=\"dataframe\">\n",
       "  <thead>\n",
       "    <tr>\n",
       "      <th></th>\n",
       "      <th>max</th>\n",
       "      <th>min</th>\n",
       "    </tr>\n",
       "    <tr>\n",
       "      <th></th>\n",
       "      <th>Happiness Score</th>\n",
       "      <th>Happiness Score</th>\n",
       "    </tr>\n",
       "    <tr>\n",
       "      <th>Country</th>\n",
       "      <th></th>\n",
       "      <th></th>\n",
       "    </tr>\n",
       "  </thead>\n",
       "  <tbody>\n",
       "    <tr>\n",
       "      <th>Afghanistan</th>\n",
       "      <td>3.794</td>\n",
       "      <td>3.203</td>\n",
       "    </tr>\n",
       "    <tr>\n",
       "      <th>Albania</th>\n",
       "      <td>4.959</td>\n",
       "      <td>4.586</td>\n",
       "    </tr>\n",
       "    <tr>\n",
       "      <th>Algeria</th>\n",
       "      <td>6.355</td>\n",
       "      <td>5.211</td>\n",
       "    </tr>\n",
       "    <tr>\n",
       "      <th>Angola</th>\n",
       "      <td>4.033</td>\n",
       "      <td>3.795</td>\n",
       "    </tr>\n",
       "    <tr>\n",
       "      <th>Argentina</th>\n",
       "      <td>6.650</td>\n",
       "      <td>6.086</td>\n",
       "    </tr>\n",
       "  </tbody>\n",
       "</table>\n",
       "</div>"
      ],
      "text/plain": [
       "                        max             min\n",
       "            Happiness Score Happiness Score\n",
       "Country                                    \n",
       "Afghanistan           3.794           3.203\n",
       "Albania               4.959           4.586\n",
       "Algeria               6.355           5.211\n",
       "Angola                4.033           3.795\n",
       "Argentina             6.650           6.086"
      ]
     },
     "execution_count": 81,
     "metadata": {},
     "output_type": "execute_result"
    }
   ],
   "source": [
    "var_country.head()"
   ]
  },
  {
   "cell_type": "code",
   "execution_count": 82,
   "metadata": {},
   "outputs": [],
   "source": [
    "var_country['diff'] = (var_country[max]-var_country[min])*1 \n",
    "# Create new column with difference between min and max"
   ]
  },
  {
   "cell_type": "code",
   "execution_count": 85,
   "metadata": {},
   "outputs": [],
   "source": [
    "sorted_diff = var_country.sort_values(by=['diff'],ascending=True) \n",
    "# Sort the countries with more difference"
   ]
  },
  {
   "cell_type": "code",
   "execution_count": 84,
   "metadata": {},
   "outputs": [
    {
     "name": "stdout",
     "output_type": "stream",
     "text": [
      "                        max             min   diff\n",
      "            Happiness Score Happiness Score       \n",
      "Country                                           \n",
      "Venezuela             6.810           4.707 -2.103\n",
      "Benin                 4.883           3.340 -1.543\n",
      "Ivory Coast           4.944           3.655 -1.289\n",
      "Togo                  4.085           2.839 -1.246\n",
      "Algeria               6.355           5.211 -1.144\n"
     ]
    }
   ],
   "source": [
    "top5diff = sorted_diff[:5] # Select the top 5\n",
    "print(top5diff)"
   ]
  },
  {
   "cell_type": "code",
   "execution_count": 86,
   "metadata": {},
   "outputs": [],
   "source": [
    "top5diff.columns = top5diff.columns.droplevel(0)\n",
    "top5diff.columns.name = None\n",
    "top5diff = top5diff.reset_index() \n",
    "#Transform the pivot table in df"
   ]
  },
  {
   "cell_type": "code",
   "execution_count": 87,
   "metadata": {},
   "outputs": [
    {
     "data": {
      "text/html": [
       "<div>\n",
       "<style scoped>\n",
       "    .dataframe tbody tr th:only-of-type {\n",
       "        vertical-align: middle;\n",
       "    }\n",
       "\n",
       "    .dataframe tbody tr th {\n",
       "        vertical-align: top;\n",
       "    }\n",
       "\n",
       "    .dataframe thead th {\n",
       "        text-align: right;\n",
       "    }\n",
       "</style>\n",
       "<table border=\"1\" class=\"dataframe\">\n",
       "  <thead>\n",
       "    <tr style=\"text-align: right;\">\n",
       "      <th></th>\n",
       "      <th>Country</th>\n",
       "      <th>Happiness Score</th>\n",
       "      <th>Happiness Score</th>\n",
       "      <th></th>\n",
       "    </tr>\n",
       "  </thead>\n",
       "  <tbody>\n",
       "    <tr>\n",
       "      <th>0</th>\n",
       "      <td>Venezuela</td>\n",
       "      <td>6.810</td>\n",
       "      <td>4.707</td>\n",
       "      <td>-2.103</td>\n",
       "    </tr>\n",
       "    <tr>\n",
       "      <th>1</th>\n",
       "      <td>Benin</td>\n",
       "      <td>4.883</td>\n",
       "      <td>3.340</td>\n",
       "      <td>-1.543</td>\n",
       "    </tr>\n",
       "    <tr>\n",
       "      <th>2</th>\n",
       "      <td>Ivory Coast</td>\n",
       "      <td>4.944</td>\n",
       "      <td>3.655</td>\n",
       "      <td>-1.289</td>\n",
       "    </tr>\n",
       "    <tr>\n",
       "      <th>3</th>\n",
       "      <td>Togo</td>\n",
       "      <td>4.085</td>\n",
       "      <td>2.839</td>\n",
       "      <td>-1.246</td>\n",
       "    </tr>\n",
       "    <tr>\n",
       "      <th>4</th>\n",
       "      <td>Algeria</td>\n",
       "      <td>6.355</td>\n",
       "      <td>5.211</td>\n",
       "      <td>-1.144</td>\n",
       "    </tr>\n",
       "  </tbody>\n",
       "</table>\n",
       "</div>"
      ],
      "text/plain": [
       "       Country  Happiness Score  Happiness Score       \n",
       "0    Venezuela            6.810            4.707 -2.103\n",
       "1        Benin            4.883            3.340 -1.543\n",
       "2  Ivory Coast            4.944            3.655 -1.289\n",
       "3         Togo            4.085            2.839 -1.246\n",
       "4      Algeria            6.355            5.211 -1.144"
      ]
     },
     "execution_count": 87,
     "metadata": {},
     "output_type": "execute_result"
    }
   ],
   "source": [
    "top5diff"
   ]
  },
  {
   "cell_type": "code",
   "execution_count": 88,
   "metadata": {},
   "outputs": [],
   "source": [
    "top5diff.columns = ['country','max','min','diff'] # Rename df columns"
   ]
  },
  {
   "cell_type": "code",
   "execution_count": 89,
   "metadata": {},
   "outputs": [
    {
     "data": {
      "text/html": [
       "<div>\n",
       "<style scoped>\n",
       "    .dataframe tbody tr th:only-of-type {\n",
       "        vertical-align: middle;\n",
       "    }\n",
       "\n",
       "    .dataframe tbody tr th {\n",
       "        vertical-align: top;\n",
       "    }\n",
       "\n",
       "    .dataframe thead th {\n",
       "        text-align: right;\n",
       "    }\n",
       "</style>\n",
       "<table border=\"1\" class=\"dataframe\">\n",
       "  <thead>\n",
       "    <tr style=\"text-align: right;\">\n",
       "      <th></th>\n",
       "      <th>country</th>\n",
       "      <th>max</th>\n",
       "      <th>min</th>\n",
       "      <th>diff</th>\n",
       "    </tr>\n",
       "  </thead>\n",
       "  <tbody>\n",
       "    <tr>\n",
       "      <th>0</th>\n",
       "      <td>Venezuela</td>\n",
       "      <td>6.810</td>\n",
       "      <td>4.707</td>\n",
       "      <td>-2.103</td>\n",
       "    </tr>\n",
       "    <tr>\n",
       "      <th>1</th>\n",
       "      <td>Benin</td>\n",
       "      <td>4.883</td>\n",
       "      <td>3.340</td>\n",
       "      <td>-1.543</td>\n",
       "    </tr>\n",
       "    <tr>\n",
       "      <th>2</th>\n",
       "      <td>Ivory Coast</td>\n",
       "      <td>4.944</td>\n",
       "      <td>3.655</td>\n",
       "      <td>-1.289</td>\n",
       "    </tr>\n",
       "    <tr>\n",
       "      <th>3</th>\n",
       "      <td>Togo</td>\n",
       "      <td>4.085</td>\n",
       "      <td>2.839</td>\n",
       "      <td>-1.246</td>\n",
       "    </tr>\n",
       "    <tr>\n",
       "      <th>4</th>\n",
       "      <td>Algeria</td>\n",
       "      <td>6.355</td>\n",
       "      <td>5.211</td>\n",
       "      <td>-1.144</td>\n",
       "    </tr>\n",
       "  </tbody>\n",
       "</table>\n",
       "</div>"
      ],
      "text/plain": [
       "       country    max    min   diff\n",
       "0    Venezuela  6.810  4.707 -2.103\n",
       "1        Benin  4.883  3.340 -1.543\n",
       "2  Ivory Coast  4.944  3.655 -1.289\n",
       "3         Togo  4.085  2.839 -1.246\n",
       "4      Algeria  6.355  5.211 -1.144"
      ]
     },
     "execution_count": 89,
     "metadata": {},
     "output_type": "execute_result"
    }
   ],
   "source": [
    "top5diff"
   ]
  },
  {
   "cell_type": "markdown",
   "metadata": {},
   "source": [
    "These are the top 5 countries with more variation between the min and max happiness score in the five year period."
   ]
  },
  {
   "cell_type": "markdown",
   "metadata": {},
   "source": [
    "##### What was the variation that happened in these countries?  It increased or decreased?"
   ]
  },
  {
   "cell_type": "code",
   "execution_count": 92,
   "metadata": {},
   "outputs": [],
   "source": [
    "dfvar = var_score.loc[var_score['Country'].isin(top5diff['country'])] \n",
    "# Select only the countries in the top5 diff from the df will all years"
   ]
  },
  {
   "cell_type": "code",
   "execution_count": 93,
   "metadata": {},
   "outputs": [
    {
     "data": {
      "image/png": "[encoded data removed]",
      "text/plain": [
       "<Figure size 432x288 with 1 Axes>"
      ]
     },
     "metadata": {
      "needs_background": "light"
     },
     "output_type": "display_data"
    }
   ],
   "source": [
    "linevar = sns.lineplot(x='Year', y='Happiness Score', hue='Country', data=dfvar) \n",
    "# Make the line chart"
   ]
  },
  {
   "cell_type": "markdown",
   "metadata": {},
   "source": [
    "Is it possible to see the countries had different trends. Venezuela had a decrease during all five year. Algeria had a peak in 2016. Ivory Coast, Benin and Togo increased in the five-year period."
   ]
  },
  {
   "cell_type": "markdown",
   "metadata": {},
   "source": [
    "### 2.5. How Germany's and Brazil's results developed through years?"
   ]
  },
  {
   "cell_type": "code",
   "execution_count": 94,
   "metadata": {},
   "outputs": [],
   "source": [
    "ger_and_br = datav.loc[datav['Country'].isin(['Brazil', 'Germany'])] # create a dataset with just germany and brazil"
   ]
  },
  {
   "cell_type": "code",
   "execution_count": 95,
   "metadata": {},
   "outputs": [
    {
     "name": "stdout",
     "output_type": "stream",
     "text": [
      "<class 'pandas.core.frame.DataFrame'>\n",
      "Int64Index: 10 entries, 15 to 657\n",
      "Data columns (total 11 columns):\n",
      " #   Column                         Non-Null Count  Dtype  \n",
      "---  ------                         --------------  -----  \n",
      " 0   Country                        10 non-null     object \n",
      " 1   Region                         10 non-null     object \n",
      " 2   Happiness Rank                 10 non-null     int64  \n",
      " 3   Happiness Score                10 non-null     float64\n",
      " 4   Economy (GDP per Capita)       10 non-null     float64\n",
      " 5   Family                         10 non-null     float64\n",
      " 6   Health (Life Expectancy)       10 non-null     float64\n",
      " 7   Freedom                        10 non-null     float64\n",
      " 8   Trust (Government Corruption)  10 non-null     float64\n",
      " 9   Generosity                     10 non-null     float64\n",
      " 10  Year                           10 non-null     int64  \n",
      "dtypes: float64(7), int64(2), object(2)\n",
      "memory usage: 960.0+ bytes\n"
     ]
    }
   ],
   "source": [
    "ger_and_br.info()"
   ]
  },
  {
   "cell_type": "code",
   "execution_count": 96,
   "metadata": {},
   "outputs": [
    {
     "data": {
      "image/png": "[encoded data removed]",
      "text/plain": [
       "<Figure size 432x288 with 1 Axes>"
      ]
     },
     "metadata": {
      "needs_background": "light"
     },
     "output_type": "display_data"
    }
   ],
   "source": [
    "line = sns.lineplot(x='Year', y='Happiness Score', hue='Country', data=ger_and_br) # make the line chart"
   ]
  },
  {
   "cell_type": "markdown",
   "metadata": {},
   "source": [
    "While Germany had Happiness Score increased between 2015 and 2016, and later maintaining steady high numbers in 2016-2019, Brazil's Happiness Score was decreasing in the same period."
   ]
  },
  {
   "cell_type": "markdown",
   "metadata": {},
   "source": [
    "##### And what about the other variables?"
   ]
  },
  {
   "cell_type": "code",
   "execution_count": 187,
   "metadata": {},
   "outputs": [
    {
     "data": {
      "image/png": "[encoded data removed]",
      "text/plain": [
       "<Figure size 301.1x216 with 1 Axes>"
      ]
     },
     "metadata": {},
     "output_type": "display_data"
    },
    {
     "data": {
      "image/png": "[encoded data removed]",
      "text/plain": [
       "<Figure size 301.1x216 with 1 Axes>"
      ]
     },
     "metadata": {},
     "output_type": "display_data"
    },
    {
     "data": {
      "image/png": "[encoded data removed]",
      "text/plain": [
       "<Figure size 301.1x216 with 1 Axes>"
      ]
     },
     "metadata": {},
     "output_type": "display_data"
    },
    {
     "data": {
      "image/png": "[encoded data removed]",
      "text/plain": [
       "<Figure size 301.1x216 with 1 Axes>"
      ]
     },
     "metadata": {},
     "output_type": "display_data"
    },
    {
     "data": {
      "image/png": "[encoded data removed]",
      "text/plain": [
       "<Figure size 301.1x216 with 1 Axes>"
      ]
     },
     "metadata": {},
     "output_type": "display_data"
    },
    {
     "data": {
      "image/png": "[encoded data removed]",
      "text/plain": [
       "<Figure size 301.1x216 with 1 Axes>"
      ]
     },
     "metadata": {},
     "output_type": "display_data"
    }
   ],
   "source": [
    "g = sns.FacetGrid(ger_and_br, hue='Country')\n",
    "g = g.map(sns.lineplot, 'Year', 'Generosity', ci=None).add_legend()\n",
    "\n",
    "t = sns.FacetGrid(ger_and_br, hue='Country')\n",
    "t = t.map(sns.lineplot, 'Year', 'Trust (Government Corruption)', ci=None).add_legend()\n",
    "\n",
    "f = sns.FacetGrid(ger_and_br, hue='Country')\n",
    "f = f.map(sns.lineplot, 'Year', 'Freedom', ci=None).add_legend()\n",
    "\n",
    "h = sns.FacetGrid(ger_and_br, hue='Country')\n",
    "h = h.map(sns.lineplot, 'Year', 'Health (Life Expectancy)', ci=None).add_legend()\n",
    "\n",
    "fa = sns.FacetGrid(ger_and_br, hue='Country')\n",
    "fa = fa.map(sns.lineplot, 'Year', 'Family', ci=None).add_legend()\n",
    "\n",
    "e = sns.FacetGrid(ger_and_br, hue='Country')\n",
    "e = e.map(sns.lineplot, 'Year', 'Economy (GDP per Capita)', ci=None).add_legend()"
   ]
  },
  {
   "cell_type": "markdown",
   "metadata": {},
   "source": [
    "Analysing the trend, just the variable 'Trust (Government Corruption)' had a different behaviour in the same period. In Germany the Trust went higher in 2016 and maintened like that. In Brazil, had a decrease during the whole period.\n",
    "\n",
    "The gaps in score are in almost all variables, besides Family, that both countries are in same level."
   ]
  },
  {
   "cell_type": "markdown",
   "metadata": {},
   "source": [
    "### 2.6. Which features make such a big difference between Austrialia and New Zealand and Sub-Saharan African?"
   ]
  },
  {
   "cell_type": "markdown",
   "metadata": {},
   "source": [
    "From below graph (we only use averaged values), Australia and New Zealand is top 1, however, Sub-Saharan Africa is bottom 1, which features make them different?"
   ]
  },
  {
   "cell_type": "code",
   "execution_count": 100,
   "metadata": {},
   "outputs": [],
   "source": [
    "datax = dataf.copy()"
   ]
  },
  {
   "cell_type": "code",
   "execution_count": 101,
   "metadata": {},
   "outputs": [
    {
     "data": {
      "text/html": [
       "<div>\n",
       "<style scoped>\n",
       "    .dataframe tbody tr th:only-of-type {\n",
       "        vertical-align: middle;\n",
       "    }\n",
       "\n",
       "    .dataframe tbody tr th {\n",
       "        vertical-align: top;\n",
       "    }\n",
       "\n",
       "    .dataframe thead th {\n",
       "        text-align: right;\n",
       "    }\n",
       "</style>\n",
       "<table border=\"1\" class=\"dataframe\">\n",
       "  <thead>\n",
       "    <tr style=\"text-align: right;\">\n",
       "      <th>Year</th>\n",
       "      <th>2015</th>\n",
       "      <th>2016</th>\n",
       "      <th>2017</th>\n",
       "      <th>2018</th>\n",
       "      <th>2019</th>\n",
       "    </tr>\n",
       "    <tr>\n",
       "      <th>Region</th>\n",
       "      <th></th>\n",
       "      <th></th>\n",
       "      <th></th>\n",
       "      <th></th>\n",
       "      <th></th>\n",
       "    </tr>\n",
       "  </thead>\n",
       "  <tbody>\n",
       "    <tr>\n",
       "      <th>Australia and New Zealand</th>\n",
       "      <td>7.285000</td>\n",
       "      <td>7.323500</td>\n",
       "      <td>7.299000</td>\n",
       "      <td>7.298000</td>\n",
       "      <td>7.267500</td>\n",
       "    </tr>\n",
       "    <tr>\n",
       "      <th>Central and Eastern Europe</th>\n",
       "      <td>5.332931</td>\n",
       "      <td>5.370690</td>\n",
       "      <td>5.409931</td>\n",
       "      <td>5.463966</td>\n",
       "      <td>5.561517</td>\n",
       "    </tr>\n",
       "    <tr>\n",
       "      <th>Eastern Asia</th>\n",
       "      <td>5.626167</td>\n",
       "      <td>5.624167</td>\n",
       "      <td>5.646667</td>\n",
       "      <td>5.672000</td>\n",
       "      <td>5.688833</td>\n",
       "    </tr>\n",
       "    <tr>\n",
       "      <th>Latin America and Caribbean</th>\n",
       "      <td>6.144682</td>\n",
       "      <td>6.101750</td>\n",
       "      <td>5.957818</td>\n",
       "      <td>5.950136</td>\n",
       "      <td>5.954429</td>\n",
       "    </tr>\n",
       "    <tr>\n",
       "      <th>Middle East and Northern Africa</th>\n",
       "      <td>5.406900</td>\n",
       "      <td>5.386053</td>\n",
       "      <td>5.369684</td>\n",
       "      <td>5.282737</td>\n",
       "      <td>5.237000</td>\n",
       "    </tr>\n",
       "    <tr>\n",
       "      <th>North America</th>\n",
       "      <td>7.273000</td>\n",
       "      <td>7.254000</td>\n",
       "      <td>7.154500</td>\n",
       "      <td>7.107000</td>\n",
       "      <td>7.085000</td>\n",
       "    </tr>\n",
       "    <tr>\n",
       "      <th>Southeastern Asia</th>\n",
       "      <td>5.317444</td>\n",
       "      <td>5.338889</td>\n",
       "      <td>5.444875</td>\n",
       "      <td>5.313444</td>\n",
       "      <td>5.273667</td>\n",
       "    </tr>\n",
       "    <tr>\n",
       "      <th>Southern Asia</th>\n",
       "      <td>4.580857</td>\n",
       "      <td>4.563286</td>\n",
       "      <td>4.628429</td>\n",
       "      <td>4.603857</td>\n",
       "      <td>4.526857</td>\n",
       "    </tr>\n",
       "    <tr>\n",
       "      <th>Sub-Saharan Africa</th>\n",
       "      <td>4.202800</td>\n",
       "      <td>4.136421</td>\n",
       "      <td>4.111949</td>\n",
       "      <td>4.195026</td>\n",
       "      <td>4.300050</td>\n",
       "    </tr>\n",
       "    <tr>\n",
       "      <th>Western Europe</th>\n",
       "      <td>6.689619</td>\n",
       "      <td>6.685667</td>\n",
       "      <td>6.703714</td>\n",
       "      <td>6.781762</td>\n",
       "      <td>6.842190</td>\n",
       "    </tr>\n",
       "  </tbody>\n",
       "</table>\n",
       "</div>"
      ],
      "text/plain": [
       "Year                                 2015      2016      2017      2018  \\\n",
       "Region                                                                    \n",
       "Australia and New Zealand        7.285000  7.323500  7.299000  7.298000   \n",
       "Central and Eastern Europe       5.332931  5.370690  5.409931  5.463966   \n",
       "Eastern Asia                     5.626167  5.624167  5.646667  5.672000   \n",
       "Latin America and Caribbean      6.144682  6.101750  5.957818  5.950136   \n",
       "Middle East and Northern Africa  5.406900  5.386053  5.369684  5.282737   \n",
       "North America                    7.273000  7.254000  7.154500  7.107000   \n",
       "Southeastern Asia                5.317444  5.338889  5.444875  5.313444   \n",
       "Southern Asia                    4.580857  4.563286  4.628429  4.603857   \n",
       "Sub-Saharan Africa               4.202800  4.136421  4.111949  4.195026   \n",
       "Western Europe                   6.689619  6.685667  6.703714  6.781762   \n",
       "\n",
       "Year                                 2019  \n",
       "Region                                     \n",
       "Australia and New Zealand        7.267500  \n",
       "Central and Eastern Europe       5.561517  \n",
       "Eastern Asia                     5.688833  \n",
       "Latin America and Caribbean      5.954429  \n",
       "Middle East and Northern Africa  5.237000  \n",
       "North America                    7.085000  \n",
       "Southeastern Asia                5.273667  \n",
       "Southern Asia                    4.526857  \n",
       "Sub-Saharan Africa               4.300050  \n",
       "Western Europe                   6.842190  "
      ]
     },
     "execution_count": 101,
     "metadata": {},
     "output_type": "execute_result"
    }
   ],
   "source": [
    "# pd.pivot_table(dataf, index='Year', values=\"Happiness Score\")\n",
    "# pd.pivot_table(dataf, index='Region', values=\"Happiness Score\")\n",
    "columns = [\"Economy (GDP per Capita)\",\"Family\",\"Health (Life Expectancy)\",\"Freedom\",\"Trust (Government Corruption)\",\"Generosity\"]\n",
    "pd.pivot_table(datax, index = ['Region', 'Year'], values=columns)\n",
    "pd.pivot_table(datax, index = ['Region','Country','Happiness Rank', 'Year'], values=columns)\n",
    "# table\n",
    "pd.pivot_table(datax, index = ['Region', 'Year'], values=\"Happiness Score\")\n",
    "pd.pivot_table(datax, index= 'Region', columns='Year', values=\"Happiness Score\")"
   ]
  },
  {
   "cell_type": "code",
   "execution_count": 105,
   "metadata": {},
   "outputs": [
    {
     "data": {
      "text/html": [
       "<div>\n",
       "<style scoped>\n",
       "    .dataframe tbody tr th:only-of-type {\n",
       "        vertical-align: middle;\n",
       "    }\n",
       "\n",
       "    .dataframe tbody tr th {\n",
       "        vertical-align: top;\n",
       "    }\n",
       "\n",
       "    .dataframe thead tr th {\n",
       "        text-align: left;\n",
       "    }\n",
       "\n",
       "    .dataframe thead tr:last-of-type th {\n",
       "        text-align: right;\n",
       "    }\n",
       "</style>\n",
       "<table border=\"1\" class=\"dataframe\">\n",
       "  <thead>\n",
       "    <tr>\n",
       "      <th></th>\n",
       "      <th>mean</th>\n",
       "      <th>min</th>\n",
       "      <th>max</th>\n",
       "      <th>std</th>\n",
       "      <th>&lt;lambda&gt;</th>\n",
       "    </tr>\n",
       "    <tr>\n",
       "      <th></th>\n",
       "      <th>Happiness Score</th>\n",
       "      <th>Happiness Score</th>\n",
       "      <th>Happiness Score</th>\n",
       "      <th>Happiness Score</th>\n",
       "      <th>Happiness Score</th>\n",
       "    </tr>\n",
       "    <tr>\n",
       "      <th>Region</th>\n",
       "      <th></th>\n",
       "      <th></th>\n",
       "      <th></th>\n",
       "      <th></th>\n",
       "      <th></th>\n",
       "    </tr>\n",
       "  </thead>\n",
       "  <tbody>\n",
       "    <tr>\n",
       "      <th>Australia and New Zealand</th>\n",
       "      <td>7.294600</td>\n",
       "      <td>7.228</td>\n",
       "      <td>7.334</td>\n",
       "      <td>0.030787</td>\n",
       "      <td>3.333333</td>\n",
       "    </tr>\n",
       "    <tr>\n",
       "      <th>Central and Eastern Europe</th>\n",
       "      <td>5.427807</td>\n",
       "      <td>4.096</td>\n",
       "      <td>6.852</td>\n",
       "      <td>0.585201</td>\n",
       "      <td>48.333333</td>\n",
       "    </tr>\n",
       "    <tr>\n",
       "      <th>Eastern Asia</th>\n",
       "      <td>5.651567</td>\n",
       "      <td>4.874</td>\n",
       "      <td>6.446</td>\n",
       "      <td>0.479466</td>\n",
       "      <td>10.000000</td>\n",
       "    </tr>\n",
       "    <tr>\n",
       "      <th>Latin America and Caribbean</th>\n",
       "      <td>6.023811</td>\n",
       "      <td>3.582</td>\n",
       "      <td>7.226</td>\n",
       "      <td>0.721001</td>\n",
       "      <td>37.000000</td>\n",
       "    </tr>\n",
       "    <tr>\n",
       "      <th>Middle East and Northern Africa</th>\n",
       "      <td>5.337208</td>\n",
       "      <td>3.006</td>\n",
       "      <td>7.278</td>\n",
       "      <td>1.022185</td>\n",
       "      <td>32.000000</td>\n",
       "    </tr>\n",
       "    <tr>\n",
       "      <th>North America</th>\n",
       "      <td>7.174700</td>\n",
       "      <td>6.886</td>\n",
       "      <td>7.427</td>\n",
       "      <td>0.204057</td>\n",
       "      <td>3.333333</td>\n",
       "    </tr>\n",
       "    <tr>\n",
       "      <th>Southeastern Asia</th>\n",
       "      <td>5.335227</td>\n",
       "      <td>3.819</td>\n",
       "      <td>6.798</td>\n",
       "      <td>0.801819</td>\n",
       "      <td>14.666667</td>\n",
       "    </tr>\n",
       "    <tr>\n",
       "      <th>Southern Asia</th>\n",
       "      <td>4.580657</td>\n",
       "      <td>3.203</td>\n",
       "      <td>5.653</td>\n",
       "      <td>0.587753</td>\n",
       "      <td>11.666667</td>\n",
       "    </tr>\n",
       "    <tr>\n",
       "      <th>Sub-Saharan Africa</th>\n",
       "      <td>4.190153</td>\n",
       "      <td>2.693</td>\n",
       "      <td>5.891</td>\n",
       "      <td>0.598109</td>\n",
       "      <td>65.333333</td>\n",
       "    </tr>\n",
       "    <tr>\n",
       "      <th>Western Europe</th>\n",
       "      <td>6.740590</td>\n",
       "      <td>4.857</td>\n",
       "      <td>7.769</td>\n",
       "      <td>0.752627</td>\n",
       "      <td>35.000000</td>\n",
       "    </tr>\n",
       "  </tbody>\n",
       "</table>\n",
       "</div>"
      ],
      "text/plain": [
       "                                           mean             min  \\\n",
       "                                Happiness Score Happiness Score   \n",
       "Region                                                            \n",
       "Australia and New Zealand              7.294600           7.228   \n",
       "Central and Eastern Europe             5.427807           4.096   \n",
       "Eastern Asia                           5.651567           4.874   \n",
       "Latin America and Caribbean            6.023811           3.582   \n",
       "Middle East and Northern Africa        5.337208           3.006   \n",
       "North America                          7.174700           6.886   \n",
       "Southeastern Asia                      5.335227           3.819   \n",
       "Southern Asia                          4.580657           3.203   \n",
       "Sub-Saharan Africa                     4.190153           2.693   \n",
       "Western Europe                         6.740590           4.857   \n",
       "\n",
       "                                            max             std  \\\n",
       "                                Happiness Score Happiness Score   \n",
       "Region                                                            \n",
       "Australia and New Zealand                 7.334        0.030787   \n",
       "Central and Eastern Europe                6.852        0.585201   \n",
       "Eastern Asia                              6.446        0.479466   \n",
       "Latin America and Caribbean               7.226        0.721001   \n",
       "Middle East and Northern Africa           7.278        1.022185   \n",
       "North America                             7.427        0.204057   \n",
       "Southeastern Asia                         6.798        0.801819   \n",
       "Southern Asia                             5.653        0.587753   \n",
       "Sub-Saharan Africa                        5.891        0.598109   \n",
       "Western Europe                            7.769        0.752627   \n",
       "\n",
       "                                       <lambda>  \n",
       "                                Happiness Score  \n",
       "Region                                           \n",
       "Australia and New Zealand              3.333333  \n",
       "Central and Eastern Europe            48.333333  \n",
       "Eastern Asia                          10.000000  \n",
       "Latin America and Caribbean           37.000000  \n",
       "Middle East and Northern Africa       32.000000  \n",
       "North America                          3.333333  \n",
       "Southeastern Asia                     14.666667  \n",
       "Southern Asia                         11.666667  \n",
       "Sub-Saharan Africa                    65.333333  \n",
       "Western Europe                        35.000000  "
      ]
     },
     "execution_count": 105,
     "metadata": {},
     "output_type": "execute_result"
    }
   ],
   "source": [
    "pd.pivot_table(datax, index = 'Region', values=\"Happiness Score\",\n",
    "               aggfunc= [np.mean, min, max, np.std, lambda x: x.count()/3])"
   ]
  },
  {
   "cell_type": "code",
   "execution_count": 106,
   "metadata": {},
   "outputs": [
    {
     "data": {
      "text/html": [
       "<div>\n",
       "<style scoped>\n",
       "    .dataframe tbody tr th:only-of-type {\n",
       "        vertical-align: middle;\n",
       "    }\n",
       "\n",
       "    .dataframe tbody tr th {\n",
       "        vertical-align: top;\n",
       "    }\n",
       "\n",
       "    .dataframe thead tr th {\n",
       "        text-align: left;\n",
       "    }\n",
       "\n",
       "    .dataframe thead tr:last-of-type th {\n",
       "        text-align: right;\n",
       "    }\n",
       "</style>\n",
       "<table border=\"1\" class=\"dataframe\">\n",
       "  <thead>\n",
       "    <tr>\n",
       "      <th></th>\n",
       "      <th>mean</th>\n",
       "      <th>remove_outliers</th>\n",
       "      <th>&lt;lambda&gt;</th>\n",
       "    </tr>\n",
       "    <tr>\n",
       "      <th></th>\n",
       "      <th>Happiness Score</th>\n",
       "      <th>Happiness Score</th>\n",
       "      <th>Happiness Score</th>\n",
       "    </tr>\n",
       "    <tr>\n",
       "      <th>Region</th>\n",
       "      <th></th>\n",
       "      <th></th>\n",
       "      <th></th>\n",
       "    </tr>\n",
       "  </thead>\n",
       "  <tbody>\n",
       "    <tr>\n",
       "      <th>Australia and New Zealand</th>\n",
       "      <td>7.294600</td>\n",
       "      <td>7.298875</td>\n",
       "      <td>3.333333</td>\n",
       "    </tr>\n",
       "    <tr>\n",
       "      <th>Central and Eastern Europe</th>\n",
       "      <td>5.427807</td>\n",
       "      <td>5.488500</td>\n",
       "      <td>48.333333</td>\n",
       "    </tr>\n",
       "    <tr>\n",
       "      <th>Eastern Asia</th>\n",
       "      <td>5.651567</td>\n",
       "      <td>5.586750</td>\n",
       "      <td>10.000000</td>\n",
       "    </tr>\n",
       "    <tr>\n",
       "      <th>Latin America and Caribbean</th>\n",
       "      <td>6.023811</td>\n",
       "      <td>6.106250</td>\n",
       "      <td>37.000000</td>\n",
       "    </tr>\n",
       "    <tr>\n",
       "      <th>Middle East and Northern Africa</th>\n",
       "      <td>5.337208</td>\n",
       "      <td>5.459125</td>\n",
       "      <td>32.000000</td>\n",
       "    </tr>\n",
       "    <tr>\n",
       "      <th>North America</th>\n",
       "      <td>7.174700</td>\n",
       "      <td>7.172875</td>\n",
       "      <td>3.333333</td>\n",
       "    </tr>\n",
       "    <tr>\n",
       "      <th>Southeastern Asia</th>\n",
       "      <td>5.335227</td>\n",
       "      <td>5.398000</td>\n",
       "      <td>14.666667</td>\n",
       "    </tr>\n",
       "    <tr>\n",
       "      <th>Southern Asia</th>\n",
       "      <td>4.580657</td>\n",
       "      <td>4.693500</td>\n",
       "      <td>11.666667</td>\n",
       "    </tr>\n",
       "    <tr>\n",
       "      <th>Sub-Saharan Africa</th>\n",
       "      <td>4.190153</td>\n",
       "      <td>4.168375</td>\n",
       "      <td>65.333333</td>\n",
       "    </tr>\n",
       "    <tr>\n",
       "      <th>Western Europe</th>\n",
       "      <td>6.740590</td>\n",
       "      <td>6.858000</td>\n",
       "      <td>35.000000</td>\n",
       "    </tr>\n",
       "  </tbody>\n",
       "</table>\n",
       "</div>"
      ],
      "text/plain": [
       "                                           mean remove_outliers  \\\n",
       "                                Happiness Score Happiness Score   \n",
       "Region                                                            \n",
       "Australia and New Zealand              7.294600        7.298875   \n",
       "Central and Eastern Europe             5.427807        5.488500   \n",
       "Eastern Asia                           5.651567        5.586750   \n",
       "Latin America and Caribbean            6.023811        6.106250   \n",
       "Middle East and Northern Africa        5.337208        5.459125   \n",
       "North America                          7.174700        7.172875   \n",
       "Southeastern Asia                      5.335227        5.398000   \n",
       "Southern Asia                          4.580657        4.693500   \n",
       "Sub-Saharan Africa                     4.190153        4.168375   \n",
       "Western Europe                         6.740590        6.858000   \n",
       "\n",
       "                                       <lambda>  \n",
       "                                Happiness Score  \n",
       "Region                                           \n",
       "Australia and New Zealand              3.333333  \n",
       "Central and Eastern Europe            48.333333  \n",
       "Eastern Asia                          10.000000  \n",
       "Latin America and Caribbean           37.000000  \n",
       "Middle East and Northern Africa       32.000000  \n",
       "North America                          3.333333  \n",
       "Southeastern Asia                     14.666667  \n",
       "Southern Asia                         11.666667  \n",
       "Sub-Saharan Africa                    65.333333  \n",
       "Western Europe                        35.000000  "
      ]
     },
     "execution_count": 106,
     "metadata": {},
     "output_type": "execute_result"
    }
   ],
   "source": [
    "def remove_outliers(values):\n",
    "    mid_quantiles = values.quantile([.25, .75])\n",
    "    return np.mean(mid_quantiles)\n",
    "\n",
    "pd.pivot_table(datax, index = 'Region', values=\"Happiness Score\",\n",
    "               aggfunc= [np.mean, remove_outliers, lambda x: x.count()/3])"
   ]
  },
  {
   "cell_type": "code",
   "execution_count": 109,
   "metadata": {},
   "outputs": [],
   "source": [
    "table = pd.pivot_table(datax, index = 'Region', values=\"Happiness Score\",\n",
    "               aggfunc= [np.mean, remove_outliers])\n",
    "\n",
    "# table[table.index.str.contains('')]\n",
    "# table"
   ]
  },
  {
   "cell_type": "code",
   "execution_count": 112,
   "metadata": {},
   "outputs": [
    {
     "data": {
      "image/png": "[encoded data removed]",
      "text/plain": [
       "<Figure size 432x288 with 1 Axes>"
      ]
     },
     "metadata": {
      "needs_background": "light"
     },
     "output_type": "display_data"
    }
   ],
   "source": [
    "plt.plot(table)\n",
    "# label the x and y axes\n",
    "plt.xlabel('Region', weight='bold', size='large')\n",
    "plt.ylabel('Happiness Score', weight='bold', size='large')\n",
    "\n",
    "# format the x and y ticks\n",
    "plt.xticks(rotation=50, horizontalalignment='right', weight='bold', size='large')\n",
    "plt.yticks(weight='bold', size='large')\n",
    "\n",
    "# give it a title\n",
    "plt.title(\"Comparison of Happiness Ranking\", weight='bold')\n",
    "\n",
    "# displays the graph\n",
    "plt.show()"
   ]
  },
  {
   "cell_type": "code",
   "execution_count": 114,
   "metadata": {},
   "outputs": [],
   "source": [
    "df_region_A = datax[datax['Region']=='Australia and New Zealand']\n",
    "df_region_Sub = datax[datax['Region']=='Sub-Saharan Africa']\n",
    "df_combined = pd.concat([df_region_A,df_region_Sub],ignore_index=True)"
   ]
  },
  {
   "cell_type": "code",
   "execution_count": 115,
   "metadata": {},
   "outputs": [
    {
     "name": "stdout",
     "output_type": "stream",
     "text": [
      "(206, 6)\n"
     ]
    }
   ],
   "source": [
    "df_combined\n",
    "# columns = [\"Economy (GDP per Capita)\",\"Family\",\"Health (Life Expectancy)\",\"Freedom\",\"Trust (Government Corruption)\",\"Generosity\"]\n",
    "df_combined_sorted = df_combined.sort_values(['Region','Year','Happiness Rank'])\n",
    "df_combined.head(30)\n",
    "# pd.pivot_table(dataf, index = ['Region','Country','Happiness Rank','Happiness Score', 'Year'], values=columns)\n",
    "df_comparison = pd.pivot_table(df_combined, index = ['Region','Country','Happiness Rank','Happiness Score', 'Year'], values=columns)\n",
    "print(df_comparison.shape)\n",
    "# df_comparison.head()"
   ]
  },
  {
   "cell_type": "code",
   "execution_count": 117,
   "metadata": {},
   "outputs": [
    {
     "data": {
      "text/plain": [
       "<matplotlib.axes._subplots.AxesSubplot at 0x1162628b0>"
      ]
     },
     "execution_count": 117,
     "metadata": {},
     "output_type": "execute_result"
    },
    {
     "data": {
      "image/png": "[encoded data removed]",
      "text/plain": [
       "<Figure size 864x576 with 1 Axes>"
      ]
     },
     "metadata": {},
     "output_type": "display_data"
    }
   ],
   "source": [
    "df_two_regions = pd.pivot_table(df_combined.loc[:, ], index= 'Region', columns='Year', values=columns)\n",
    "# pd.pivot_table(dataf.loc[:, ], index= 'Country', columns='Year', values=\"Happiness Score\").head(30)#null values? Where do they come from?\n",
    "plt.figure(figsize=(12,8))\n",
    "sns.set()\n",
    "sns.barplot(data=pd.pivot_table(df_combined.loc[0:9, ], \n",
    "                                index= 'Region', columns='Year', \n",
    "                                values=columns)[columns], orient = 'h')"
   ]
  },
  {
   "cell_type": "markdown",
   "metadata": {},
   "source": [
    "As seen in the graph above, in Sub-Saharan African, the lowest ranking feature is \"Trust (Government Corruption)\""
   ]
  },
  {
   "cell_type": "code",
   "execution_count": 119,
   "metadata": {},
   "outputs": [
    {
     "data": {
      "text/plain": [
       "<matplotlib.axes._subplots.AxesSubplot at 0x11467f6d0>"
      ]
     },
     "execution_count": 119,
     "metadata": {},
     "output_type": "execute_result"
    },
    {
     "data": {
      "image/png": "[encoded data removed]",
      "text/plain": [
       "<Figure size 520.56x432 with 1 Axes>"
      ]
     },
     "metadata": {},
     "output_type": "display_data"
    }
   ],
   "source": [
    "plt.figure(figsize=(7.23,6))\n",
    "sns.barplot(data=pd.pivot_table(df_combined.loc[10:, ], \n",
    "                                index= 'Region', columns='Year', values=columns)[columns], orient = 'h')\n"
   ]
  },
  {
   "cell_type": "code",
   "execution_count": 125,
   "metadata": {},
   "outputs": [
    {
     "data": {
      "text/plain": [
       "Text(0, 0.5, 'Happiness Rank')"
      ]
     },
     "execution_count": 125,
     "metadata": {},
     "output_type": "execute_result"
    },
    {
     "data": {
      "image/png": "[encoded data removed]",
      "text/plain": [
       "<Figure size 432x288 with 1 Axes>"
      ]
     },
     "metadata": {
      "needs_background": "light"
     },
     "output_type": "display_data"
    }
   ],
   "source": [
    "#original data for these two regions\n",
    "# pd.pivot_table(datax, index='Year', values=\"Happiness Score\")\n",
    "# pd.pivot_table(datax, index='Region', values=\"Happiness Score\")\n",
    "columns = [\"Economy (GDP per Capita)\",\"Family\",\"Health (Life Expectancy)\",\"Freedom\",\"Trust (Government Corruption)\",\"Generosity\"]\n",
    "pd.pivot_table(datax, index = ['Region', 'Year'], values=columns)\n",
    "pd.pivot_table(datax, index = ['Region','Country','Happiness Rank', 'Year'], values=columns)\n",
    "# table\n",
    "pd.pivot_table(datax, index = ['Region', 'Year'], values=\"Happiness Score\")\n",
    "pd.pivot_table(datax, index= 'Region', columns='Year', values=\"Happiness Score\")\n",
    "\n",
    "pd.pivot_table(datax, index= 'Region', columns= 'Year', values= \"Happiness Score\").plot(kind= 'barh')\n",
    "plt.ylabel(\"Happiness Rank\")"
   ]
  },
  {
   "cell_type": "code",
   "execution_count": 123,
   "metadata": {},
   "outputs": [],
   "source": [
    "pivoted = pd.pivot_table(datax, index = ['Region', 'Year'],values=columns)\n",
    "# pivoted"
   ]
  },
  {
   "cell_type": "code",
   "execution_count": 126,
   "metadata": {},
   "outputs": [],
   "source": [
    "df_final = pivoted.loc[['Australia and New Zealand','Sub-Saharan Africa']]"
   ]
  },
  {
   "cell_type": "code",
   "execution_count": 127,
   "metadata": {},
   "outputs": [
    {
     "data": {
      "text/plain": [
       "<matplotlib.axes._subplots.AxesSubplot at 0x1148b10a0>"
      ]
     },
     "execution_count": 127,
     "metadata": {},
     "output_type": "execute_result"
    },
    {
     "data": {
      "image/png": "[encoded data removed]",
      "text/plain": [
       "<Figure size 864x576 with 1 Axes>"
      ]
     },
     "metadata": {
      "needs_background": "light"
     },
     "output_type": "display_data"
    }
   ],
   "source": [
    "plt.figure(figsize=(12,8))\n",
    "sns.barplot(data=pd.pivot_table(df_combined, index= 'Region', columns='Year', values=columns)[columns], orient = 'h')"
   ]
  },
  {
   "cell_type": "markdown",
   "metadata": {},
   "source": [
    "The top 3 features that affect the happiness of these two regions are Economy (GDP per Capita), Family, and Health (Life Expectancy)."
   ]
  },
  {
   "cell_type": "markdown",
   "metadata": {},
   "source": [
    "## Conclusion"
   ]
  },
  {
   "cell_type": "markdown",
   "metadata": {},
   "source": [
    "In this analysis, we merged several datasets, explored them, and answered a couple of questions. This sections sums up the results. "
   ]
  },
  {
   "cell_type": "markdown",
   "metadata": {},
   "source": [
    "**2.1. How are the variables associated? Does the association vary across years?**\n",
    "\n",
    "\n",
    "Overall, the happiness score is highly associated with GDP, family, and life expectancy, and less associated with generosity.\n",
    "Associations vary over time, suggesting that as time passes, happiness is less associated with generosity and more associated with GDP."
   ]
  },
  {
   "cell_type": "markdown",
   "metadata": {},
   "source": [
    "2. What are the happiest and least happy regions in the world? What is the region with the biggest difference between minimum and maximum happiness score?\n",
    "\n",
    "We found out that *Australia and New Zealand* is the happiest region in the world, and *Sothern Asia* - the least happy region. The region *Middle East and Northern Africa* has the biggest difference in the Happiness Score. It is due to Yemen and Syria, which have the lowest happiness scores among other countries in the region. The indices explained very little of the Happiness Score, so an assumption is that something else played a role in low Happiness Scores (perhaps civil wars? It is a very speculative statment)."
   ]
  },
  {
   "cell_type": "markdown",
   "metadata": {},
   "source": [
    "3. Do happier countries also have higher GDP per capita?\n",
    "\n",
    "Yes, Happiness Score and GDP per capita have positive relationships, meaning that the higher is GDP per capita, the higher is Happiness Score and vice versa. "
   ]
  },
  {
   "cell_type": "markdown",
   "metadata": {},
   "source": [
    "4.  Which countries have more variation in happiness score between 2015 and 2019?\n",
    "\n",
    "Venezuela, Benin, Ivory Coast, Togo, and Algeria have more variation in happiness scores."
   ]
  },
  {
   "cell_type": "markdown",
   "metadata": {},
   "source": [
    "5. How Germany's and Brazil's results developed through years?\n",
    "\n",
    "While Germany had Happiness Score increased between 2015 and 2016, and later maintaining steady high numbers in 2016-2019, Brazil's Happiness Score was decreasing in the same period."
   ]
  },
  {
   "cell_type": "markdown",
   "metadata": {},
   "source": [
    "6. Which features make such a big difference between Austrialia and New Zealand and Sub-Saharan African?\n",
    "\n",
    "The top 3 features affect the happiness of these two regions are Economy (GDP per Capita), Family, and Health (Life Expectancy)."
   ]
  },
  {
   "cell_type": "code",
   "execution_count": null,
   "metadata": {},
   "outputs": [],
   "source": []
  }
 ],
 "metadata": {
  "kernelspec": {
   "display_name": "Python 3",
   "language": "python",
   "name": "python3"
  },
  "language_info": {
   "codemirror_mode": {
    "name": "ipython",
    "version": 3
   },
   "file_extension": ".py",
   "mimetype": "text/x-python",
   "name": "python",
   "nbconvert_exporter": "python",
   "pygments_lexer": "ipython3",
   "version": "3.8.3"
  }
 },
 "nbformat": 4,
 "nbformat_minor": 4
}
